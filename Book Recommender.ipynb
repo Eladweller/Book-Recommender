{
 "cells": [
  {
   "cell_type": "code",
   "execution_count": null,
   "metadata": {},
   "outputs": [],
   "source": []
  },
  {
   "cell_type": "markdown",
   "metadata": {},
   "source": [
    "<h1>Importing functions</h1>"
   ]
  },
  {
   "cell_type": "code",
   "execution_count": 1,
   "metadata": {},
   "outputs": [],
   "source": [
    "import numpy as np\n",
    "from scipy.sparse import lil_matrix\n",
    "import os\n",
    "import pickle\n",
    "import csv\n",
    "import pandas as pd\n",
    "from sklearn.decomposition import LatentDirichletAllocation as LDA\n",
    "from scipy.spatial import distance"
   ]
  },
  {
   "cell_type": "markdown",
   "metadata": {},
   "source": [
    "<h1> DATA </h1>\n",
    "\n",
    "The data is composed of a list of books and a list of users rating the books"
   ]
  },
  {
   "cell_type": "code",
   "execution_count": 2,
   "metadata": {},
   "outputs": [],
   "source": [
    "books_file = 'books.csv'\n",
    "users_ratings = 'books_ratings.csv'"
   ]
  },
  {
   "cell_type": "markdown",
   "metadata": {},
   "source": [
    "<h1>Functions</h1>"
   ]
  },
  {
   "cell_type": "markdown",
   "metadata": {},
   "source": [
    "<h2>Book Functions</h2>"
   ]
  },
  {
   "cell_type": "markdown",
   "metadata": {},
   "source": [
    "<h3>Search for books</h3>"
   ]
  },
  {
   "cell_type": "code",
   "execution_count": 3,
   "metadata": {},
   "outputs": [],
   "source": [
    "def search_by_author(text_to_search):\n",
    "    temp_df = books_df.loc[:,'authors'].dropna().apply(lambda x:x.lower())\n",
    "    return books_df.loc[temp_df.str.contains(text_to_search.lower())]\n",
    "\n",
    "def search_by_title(text_to_search):\n",
    "    temp_df = books_df.loc[:,'original_title'].dropna().apply(lambda x: x.lower())\n",
    "    return books_df.loc[temp_df.loc[temp_df.str.contains(text_to_search.lower())].index]"
   ]
  },
  {
   "cell_type": "markdown",
   "metadata": {},
   "source": [
    "<h3>Finds the most similar book or books</h3>\n"
   ]
  },
  {
   "cell_type": "code",
   "execution_count": 4,
   "metadata": {},
   "outputs": [],
   "source": [
    "def find_most_similar(vector,matrix):\n",
    "    return np.argsort(distance.cdist([vector],matrix,metric='cosine'))[::-1]\n",
    "\n",
    "def find_similar_books(books_vector,books_list,list_length):\n",
    "    for row in books_list:\n",
    "        book=books_vector[row,:]\n",
    "        similarity_list=find_most_similar(book,books_vector)[0]\n",
    "        print(books_df.iloc[row][\"original_title\"])\n",
    "        print(get_book_name(similarity_list,list_length))"
   ]
  },
  {
   "cell_type": "markdown",
   "metadata": {},
   "source": [
    "<h3>Returns books names based on <i>book IDs</i></h3>\n"
   ]
  },
  {
   "cell_type": "code",
   "execution_count": 5,
   "metadata": {},
   "outputs": [],
   "source": [
    "def get_book_name(books_list,size):\n",
    "    book_names=[]\n",
    "    for book in books_list[0:size]:\n",
    "        book_names.append(books_df.iloc[book][\"original_title\"])\n",
    "    return book_names"
   ]
  },
  {
   "cell_type": "markdown",
   "metadata": {},
   "source": [
    "<h3>For a list of groups, shows most probable members</h3>"
   ]
  },
  {
   "cell_type": "code",
   "execution_count": 6,
   "metadata": {},
   "outputs": [],
   "source": [
    "def show_groups(books_vector,list_length,list_of_groups=None):\n",
    "    books_vector_transpose=books_vector.transpose()\n",
    "    if list_of_groups==None:\n",
    "        iteration_range=range(0,n_topics)\n",
    "    else:\n",
    "        iteration_range=list_of_groups\n",
    "    for group in iteration_range:\n",
    "        print(\"Group\",group)\n",
    "        print(get_book_name(books_vector_transpose[group].argsort()[::-1],list_length))"
   ]
  },
  {
   "cell_type": "markdown",
   "metadata": {},
   "source": [
    "<h2>User Functions</h2>"
   ]
  },
  {
   "cell_type": "markdown",
   "metadata": {},
   "source": [
    "<h3>With a list of books that the user liked, creating a user vector with probable groups</h3>"
   ]
  },
  {
   "cell_type": "code",
   "execution_count": 7,
   "metadata": {},
   "outputs": [],
   "source": [
    "def create_new_user(reading_list,model):\n",
    "    user_matrix=lil_matrix((1,books_df.shape[0]),dtype='int')\n",
    "    for book in reading_list:\n",
    "        user_matrix[0,book]=5\n",
    "    result=model.transform(user_matrix)\n",
    "    return result[0]"
   ]
  },
  {
   "cell_type": "markdown",
   "metadata": {},
   "source": [
    "<h3>Returning a list of groups that are relevant to the user, sorted by probability of the user belonging to the specific group</h3>"
   ]
  },
  {
   "cell_type": "code",
   "execution_count": 8,
   "metadata": {},
   "outputs": [],
   "source": [
    "def user_relevant_groups(user_vector,n_topics):\n",
    "    new_list=[]\n",
    "    relevant_groups=np.where(user_vector>(1/n_topics))[0]\n",
    "    for i in np.argsort(user_vector)[::-1]:\n",
    "        if i in relevant_groups:\n",
    "            new_list.append(i)\n",
    "    return new_list"
   ]
  },
  {
   "cell_type": "markdown",
   "metadata": {},
   "source": [
    "<h3>creating a user specific list of recommended books and authors</h3>\n",
    "\n",
    "Multiplying the probability that a user will be in a specific group with the probability that a book will be in that group, we get the probability that the user will fit the book."
   ]
  },
  {
   "cell_type": "code",
   "execution_count": 9,
   "metadata": {},
   "outputs": [],
   "source": [
    "def user_recommended_books(user,books_vector,new_user_books):\n",
    "    temp_mulp=np.sum(np.multiply(new_user,books_vector),axis=1)\n",
    "    user_recommendations=books_df[~books_df.original_title.isin(new_user_books)]\n",
    "    user_recommendations=books_df.loc[:,['authors','original_publication_year','original_title']]\n",
    "    user_recommendations['user_index']=temp_mulp\n",
    "    user_recommendations=user_recommendations[user_recommendations.user_index>200]\n",
    "    return user_recommendations.sort_values('user_index',ascending=False)"
   ]
  },
  {
   "cell_type": "markdown",
   "metadata": {},
   "source": [
    "Using the list of recommended books, aggregation of the books based on authors will generate a list of recomended authors for the user to follow "
   ]
  },
  {
   "cell_type": "code",
   "execution_count": 10,
   "metadata": {},
   "outputs": [],
   "source": [
    "def get_recommended_authors(recommended_df):\n",
    "    authors=recommendation.groupby('authors').mean().sort_values('user_index',ascending=False).index\n",
    "    return list(authors)"
   ]
  },
  {
   "cell_type": "markdown",
   "metadata": {},
   "source": [
    "<h1>Build a model</h1>"
   ]
  },
  {
   "cell_type": "markdown",
   "metadata": {},
   "source": [
    "<h2>Read \"Books.csv\"</h2>"
   ]
  },
  {
   "cell_type": "code",
   "execution_count": 11,
   "metadata": {},
   "outputs": [
    {
     "data": {
      "text/html": [
       "<div>\n",
       "<style scoped>\n",
       "    .dataframe tbody tr th:only-of-type {\n",
       "        vertical-align: middle;\n",
       "    }\n",
       "\n",
       "    .dataframe tbody tr th {\n",
       "        vertical-align: top;\n",
       "    }\n",
       "\n",
       "    .dataframe thead th {\n",
       "        text-align: right;\n",
       "    }\n",
       "</style>\n",
       "<table border=\"1\" class=\"dataframe\">\n",
       "  <thead>\n",
       "    <tr style=\"text-align: right;\">\n",
       "      <th></th>\n",
       "      <th>authors</th>\n",
       "      <th>original_publication_year</th>\n",
       "      <th>original_title</th>\n",
       "      <th>language_code</th>\n",
       "    </tr>\n",
       "    <tr>\n",
       "      <th>book_id</th>\n",
       "      <th></th>\n",
       "      <th></th>\n",
       "      <th></th>\n",
       "      <th></th>\n",
       "    </tr>\n",
       "  </thead>\n",
       "  <tbody>\n",
       "    <tr>\n",
       "      <th>0</th>\n",
       "      <td>Suzanne Collins</td>\n",
       "      <td>2008.0</td>\n",
       "      <td>The Hunger Games</td>\n",
       "      <td>eng</td>\n",
       "    </tr>\n",
       "    <tr>\n",
       "      <th>1</th>\n",
       "      <td>J.K. Rowling</td>\n",
       "      <td>1997.0</td>\n",
       "      <td>Harry Potter and the Philosopher's Stone</td>\n",
       "      <td>eng</td>\n",
       "    </tr>\n",
       "    <tr>\n",
       "      <th>2</th>\n",
       "      <td>Stephenie Meyer</td>\n",
       "      <td>2005.0</td>\n",
       "      <td>Twilight</td>\n",
       "      <td>en-US</td>\n",
       "    </tr>\n",
       "    <tr>\n",
       "      <th>3</th>\n",
       "      <td>Harper Lee</td>\n",
       "      <td>1960.0</td>\n",
       "      <td>To Kill a Mockingbird</td>\n",
       "      <td>eng</td>\n",
       "    </tr>\n",
       "    <tr>\n",
       "      <th>4</th>\n",
       "      <td>F. Scott Fitzgerald</td>\n",
       "      <td>1925.0</td>\n",
       "      <td>The Great Gatsby</td>\n",
       "      <td>eng</td>\n",
       "    </tr>\n",
       "  </tbody>\n",
       "</table>\n",
       "</div>"
      ],
      "text/plain": [
       "                     authors  original_publication_year  \\\n",
       "book_id                                                   \n",
       "0            Suzanne Collins                     2008.0   \n",
       "1               J.K. Rowling                     1997.0   \n",
       "2            Stephenie Meyer                     2005.0   \n",
       "3                 Harper Lee                     1960.0   \n",
       "4        F. Scott Fitzgerald                     1925.0   \n",
       "\n",
       "                                   original_title language_code  \n",
       "book_id                                                          \n",
       "0                                The Hunger Games           eng  \n",
       "1        Harry Potter and the Philosopher's Stone           eng  \n",
       "2                                        Twilight         en-US  \n",
       "3                           To Kill a Mockingbird           eng  \n",
       "4                                The Great Gatsby           eng  "
      ]
     },
     "execution_count": 11,
     "metadata": {},
     "output_type": "execute_result"
    }
   ],
   "source": [
    "books_df=pd.read_csv(books_file,index_col='book_id')## book_id as index\n",
    "books_df['authors']=books_df.authors.apply(lambda x: x.split(\",\")[0])\n",
    "books_df.head(5)"
   ]
  },
  {
   "cell_type": "markdown",
   "metadata": {},
   "source": [
    "<h3>Database search by author</h3>"
   ]
  },
  {
   "cell_type": "code",
   "execution_count": 12,
   "metadata": {},
   "outputs": [
    {
     "data": {
      "text/html": [
       "<div>\n",
       "<style scoped>\n",
       "    .dataframe tbody tr th:only-of-type {\n",
       "        vertical-align: middle;\n",
       "    }\n",
       "\n",
       "    .dataframe tbody tr th {\n",
       "        vertical-align: top;\n",
       "    }\n",
       "\n",
       "    .dataframe thead th {\n",
       "        text-align: right;\n",
       "    }\n",
       "</style>\n",
       "<table border=\"1\" class=\"dataframe\">\n",
       "  <thead>\n",
       "    <tr style=\"text-align: right;\">\n",
       "      <th></th>\n",
       "      <th>authors</th>\n",
       "      <th>original_publication_year</th>\n",
       "      <th>original_title</th>\n",
       "      <th>language_code</th>\n",
       "    </tr>\n",
       "    <tr>\n",
       "      <th>book_id</th>\n",
       "      <th></th>\n",
       "      <th></th>\n",
       "      <th></th>\n",
       "      <th></th>\n",
       "    </tr>\n",
       "  </thead>\n",
       "  <tbody>\n",
       "    <tr>\n",
       "      <th>538</th>\n",
       "      <td>Colleen Hoover</td>\n",
       "      <td>2012.0</td>\n",
       "      <td>Hopeless</td>\n",
       "      <td>eng</td>\n",
       "    </tr>\n",
       "    <tr>\n",
       "      <th>643</th>\n",
       "      <td>Colleen Hoover</td>\n",
       "      <td>2012.0</td>\n",
       "      <td>Slammed</td>\n",
       "      <td>eng</td>\n",
       "    </tr>\n",
       "    <tr>\n",
       "      <th>961</th>\n",
       "      <td>Colleen Hoover</td>\n",
       "      <td>2012.0</td>\n",
       "      <td>Point of Retreat</td>\n",
       "      <td>eng</td>\n",
       "    </tr>\n",
       "    <tr>\n",
       "      <th>1109</th>\n",
       "      <td>Colleen Hoover</td>\n",
       "      <td>2014.0</td>\n",
       "      <td>Maybe Someday</td>\n",
       "      <td>eng</td>\n",
       "    </tr>\n",
       "    <tr>\n",
       "      <th>1129</th>\n",
       "      <td>Colleen Hoover</td>\n",
       "      <td>2014.0</td>\n",
       "      <td>Ugly Love</td>\n",
       "      <td>eng</td>\n",
       "    </tr>\n",
       "    <tr>\n",
       "      <th>1561</th>\n",
       "      <td>Colleen Hoover</td>\n",
       "      <td>2015.0</td>\n",
       "      <td>NaN</td>\n",
       "      <td>en-GB</td>\n",
       "    </tr>\n",
       "    <tr>\n",
       "      <th>1567</th>\n",
       "      <td>Colleen Hoover</td>\n",
       "      <td>2016.0</td>\n",
       "      <td>It Ends with Us</td>\n",
       "      <td>eng</td>\n",
       "    </tr>\n",
       "    <tr>\n",
       "      <th>2039</th>\n",
       "      <td>Colleen Hoover</td>\n",
       "      <td>2013.0</td>\n",
       "      <td>Losing Hope</td>\n",
       "      <td>eng</td>\n",
       "    </tr>\n",
       "    <tr>\n",
       "      <th>2330</th>\n",
       "      <td>Colleen Hoover</td>\n",
       "      <td>2015.0</td>\n",
       "      <td>November 9</td>\n",
       "      <td>en-US</td>\n",
       "    </tr>\n",
       "    <tr>\n",
       "      <th>2394</th>\n",
       "      <td>Colleen Hoover</td>\n",
       "      <td>2015.0</td>\n",
       "      <td>Never Never</td>\n",
       "      <td>en-US</td>\n",
       "    </tr>\n",
       "    <tr>\n",
       "      <th>2436</th>\n",
       "      <td>Colleen Hoover</td>\n",
       "      <td>2013.0</td>\n",
       "      <td>This Girl</td>\n",
       "      <td>eng</td>\n",
       "    </tr>\n",
       "    <tr>\n",
       "      <th>3014</th>\n",
       "      <td>Colleen Hoover</td>\n",
       "      <td>2013.0</td>\n",
       "      <td>Finding Cinderella</td>\n",
       "      <td>eng</td>\n",
       "    </tr>\n",
       "    <tr>\n",
       "      <th>3777</th>\n",
       "      <td>Colleen Hoover</td>\n",
       "      <td>2015.0</td>\n",
       "      <td>NaN</td>\n",
       "      <td>eng</td>\n",
       "    </tr>\n",
       "    <tr>\n",
       "      <th>4895</th>\n",
       "      <td>Colleen Hoover</td>\n",
       "      <td>2016.0</td>\n",
       "      <td>NaN</td>\n",
       "      <td>en-GB</td>\n",
       "    </tr>\n",
       "    <tr>\n",
       "      <th>5502</th>\n",
       "      <td>Colleen Hoover</td>\n",
       "      <td>2014.0</td>\n",
       "      <td>Maybe Not</td>\n",
       "      <td>en-US</td>\n",
       "    </tr>\n",
       "    <tr>\n",
       "      <th>6288</th>\n",
       "      <td>Colleen Hoover</td>\n",
       "      <td>2016.0</td>\n",
       "      <td>NaN</td>\n",
       "      <td>eng</td>\n",
       "    </tr>\n",
       "  </tbody>\n",
       "</table>\n",
       "</div>"
      ],
      "text/plain": [
       "                authors  original_publication_year      original_title  \\\n",
       "book_id                                                                  \n",
       "538      Colleen Hoover                     2012.0            Hopeless   \n",
       "643      Colleen Hoover                     2012.0             Slammed   \n",
       "961      Colleen Hoover                     2012.0    Point of Retreat   \n",
       "1109     Colleen Hoover                     2014.0       Maybe Someday   \n",
       "1129     Colleen Hoover                     2014.0           Ugly Love   \n",
       "1561     Colleen Hoover                     2015.0                 NaN   \n",
       "1567     Colleen Hoover                     2016.0     It Ends with Us   \n",
       "2039     Colleen Hoover                     2013.0         Losing Hope   \n",
       "2330     Colleen Hoover                     2015.0          November 9   \n",
       "2394     Colleen Hoover                     2015.0         Never Never   \n",
       "2436     Colleen Hoover                     2013.0           This Girl   \n",
       "3014     Colleen Hoover                     2013.0  Finding Cinderella   \n",
       "3777     Colleen Hoover                     2015.0                 NaN   \n",
       "4895     Colleen Hoover                     2016.0                 NaN   \n",
       "5502     Colleen Hoover                     2014.0           Maybe Not   \n",
       "6288     Colleen Hoover                     2016.0                 NaN   \n",
       "\n",
       "        language_code  \n",
       "book_id                \n",
       "538               eng  \n",
       "643               eng  \n",
       "961               eng  \n",
       "1109              eng  \n",
       "1129              eng  \n",
       "1561            en-GB  \n",
       "1567              eng  \n",
       "2039              eng  \n",
       "2330            en-US  \n",
       "2394            en-US  \n",
       "2436              eng  \n",
       "3014              eng  \n",
       "3777              eng  \n",
       "4895            en-GB  \n",
       "5502            en-US  \n",
       "6288              eng  "
      ]
     },
     "execution_count": 12,
     "metadata": {},
     "output_type": "execute_result"
    }
   ],
   "source": [
    "search_by_author('hoover')"
   ]
  },
  {
   "cell_type": "markdown",
   "metadata": {},
   "source": [
    "<h3>Database search by title</h3>"
   ]
  },
  {
   "cell_type": "code",
   "execution_count": 13,
   "metadata": {},
   "outputs": [
    {
     "data": {
      "text/html": [
       "<div>\n",
       "<style scoped>\n",
       "    .dataframe tbody tr th:only-of-type {\n",
       "        vertical-align: middle;\n",
       "    }\n",
       "\n",
       "    .dataframe tbody tr th {\n",
       "        vertical-align: top;\n",
       "    }\n",
       "\n",
       "    .dataframe thead th {\n",
       "        text-align: right;\n",
       "    }\n",
       "</style>\n",
       "<table border=\"1\" class=\"dataframe\">\n",
       "  <thead>\n",
       "    <tr style=\"text-align: right;\">\n",
       "      <th></th>\n",
       "      <th>authors</th>\n",
       "      <th>original_publication_year</th>\n",
       "      <th>original_title</th>\n",
       "      <th>language_code</th>\n",
       "    </tr>\n",
       "    <tr>\n",
       "      <th>book_id</th>\n",
       "      <th></th>\n",
       "      <th></th>\n",
       "      <th></th>\n",
       "      <th></th>\n",
       "    </tr>\n",
       "  </thead>\n",
       "  <tbody>\n",
       "    <tr>\n",
       "      <th>3</th>\n",
       "      <td>Harper Lee</td>\n",
       "      <td>1960.0</td>\n",
       "      <td>To Kill a Mockingbird</td>\n",
       "      <td>eng</td>\n",
       "    </tr>\n",
       "    <tr>\n",
       "      <th>4933</th>\n",
       "      <td>Kathryn Erskine</td>\n",
       "      <td>2010.0</td>\n",
       "      <td>Mockingbird</td>\n",
       "      <td>eng</td>\n",
       "    </tr>\n",
       "    <tr>\n",
       "      <th>6854</th>\n",
       "      <td>Karen Miller</td>\n",
       "      <td>2005.0</td>\n",
       "      <td>The Innocent Mage (Kingmaker, Kingbreaker, #1)</td>\n",
       "      <td>eng</td>\n",
       "    </tr>\n",
       "    <tr>\n",
       "      <th>8097</th>\n",
       "      <td>Karen Miller</td>\n",
       "      <td>2005.0</td>\n",
       "      <td>Innocence Lost (Kingmaker, Kingbreaker, #2)</td>\n",
       "      <td>eng</td>\n",
       "    </tr>\n",
       "  </tbody>\n",
       "</table>\n",
       "</div>"
      ],
      "text/plain": [
       "                 authors  original_publication_year  \\\n",
       "book_id                                               \n",
       "3             Harper Lee                     1960.0   \n",
       "4933     Kathryn Erskine                     2010.0   \n",
       "6854        Karen Miller                     2005.0   \n",
       "8097        Karen Miller                     2005.0   \n",
       "\n",
       "                                         original_title language_code  \n",
       "book_id                                                                \n",
       "3                                 To Kill a Mockingbird           eng  \n",
       "4933                                        Mockingbird           eng  \n",
       "6854     The Innocent Mage (Kingmaker, Kingbreaker, #1)           eng  \n",
       "8097        Innocence Lost (Kingmaker, Kingbreaker, #2)           eng  "
      ]
     },
     "execution_count": 13,
     "metadata": {},
     "output_type": "execute_result"
    }
   ],
   "source": [
    "search_by_title('kingb')"
   ]
  },
  {
   "cell_type": "markdown",
   "metadata": {},
   "source": [
    "<h2>Read \"books_ratings.csv\"</h2>\n",
    "Only relevant to our model are the users that \"liked\" a specific book (rated it 4 or 5)."
   ]
  },
  {
   "cell_type": "code",
   "execution_count": 14,
   "metadata": {},
   "outputs": [],
   "source": [
    "users_liked={}\n",
    "loc_user_id={}\n",
    "loc_id_user={}\n",
    "c=0\n",
    "with open(users_ratings) as file1:\n",
    "    csv_users=csv.reader(file1)\n",
    "    next(csv_users)\n",
    "    for row in csv_users:\n",
    "        user_id,book_id,rating=row[0],row[1],int(row[2])\n",
    "        if rating>=4:\n",
    "            if user_id not in loc_user_id.keys():\n",
    "                loc_user_id[user_id]=c\n",
    "                loc_id_user[c]=user_id\n",
    "                c+=1\n",
    "            users_liked[user_id]=users_liked.get(user_id,dict())\n",
    "            users_liked[user_id][book_id]=rating"
   ]
  },
  {
   "cell_type": "markdown",
   "metadata": {},
   "source": [
    "<h2> Define sparse matrix with local user id as rows and book ids as columns</h2>"
   ]
  },
  {
   "cell_type": "code",
   "execution_count": 15,
   "metadata": {},
   "outputs": [
    {
     "data": {
      "text/plain": [
       "(13071, 10000)"
      ]
     },
     "execution_count": 15,
     "metadata": {},
     "output_type": "execute_result"
    }
   ],
   "source": [
    "sparse_matrix=lil_matrix((c,books_df.shape[0]),dtype='int')\n",
    "sparse_matrix.shape"
   ]
  },
  {
   "cell_type": "markdown",
   "metadata": {},
   "source": [
    "<h2>Fill the sparse matrix with data</h2>\n",
    "* The rows of the matrix will represent the users\n",
    "* The columns of the matrix will represent the books"
   ]
  },
  {
   "cell_type": "code",
   "execution_count": 16,
   "metadata": {},
   "outputs": [],
   "source": [
    "for user,liked in users_liked.items():\n",
    "    for book_str,rating in liked.items():\n",
    "        book=int(book_str)\n",
    "        sparse_matrix[loc_user_id[user],book]=rating"
   ]
  },
  {
   "cell_type": "code",
   "execution_count": 17,
   "metadata": {},
   "outputs": [
    {
     "name": "stdout",
     "output_type": "stream",
     "text": [
      "sparcity= 0.005159077346798256\n"
     ]
    }
   ],
   "source": [
    "print(\"sparcity=\",sparse_matrix.nnz/(sparse_matrix.shape[0]*sparse_matrix.shape[1]))"
   ]
  },
  {
   "cell_type": "markdown",
   "metadata": {},
   "source": [
    "<h2>Train the LDA model</h2>"
   ]
  },
  {
   "cell_type": "markdown",
   "metadata": {},
   "source": [
    "Define the LDA model, <b>n_topics</b> is the number of groups for the model to create"
   ]
  },
  {
   "cell_type": "code",
   "execution_count": 18,
   "metadata": {},
   "outputs": [],
   "source": [
    "n_topics=100\n",
    "lda = LDA(n_components=n_topics,max_iter=50)"
   ]
  },
  {
   "cell_type": "markdown",
   "metadata": {},
   "source": [
    "After defining the model, fitting based on <b>sparse_matrix</b> that was created earlier"
   ]
  },
  {
   "cell_type": "code",
   "execution_count": 19,
   "metadata": {
    "scrolled": true
   },
   "outputs": [
    {
     "name": "stderr",
     "output_type": "stream",
     "text": [
      "C:\\Users\\User\\Anaconda3\\lib\\site-packages\\sklearn\\decomposition\\online_lda.py:294: DeprecationWarning: n_topics has been renamed to n_components in version 0.19 and will be removed in 0.21\n",
      "  DeprecationWarning)\n",
      "C:\\Users\\User\\Anaconda3\\lib\\site-packages\\sklearn\\decomposition\\online_lda.py:536: DeprecationWarning: The default value for 'learning_method' will be changed from 'online' to 'batch' in the release 0.20. This warning was introduced in 0.18.\n",
      "  DeprecationWarning)\n"
     ]
    },
    {
     "name": "stdout",
     "output_type": "stream",
     "text": [
      "(10000, 100) (13071, 100)\n"
     ]
    }
   ],
   "source": [
    "lda.fit(sparse_matrix)\n",
    "books_vector=lda.components_.transpose()\n",
    "users_vector=lda.transform(sparse_matrix)\n",
    "# print(books_vector.shape,users_vector.shape)"
   ]
  },
  {
   "cell_type": "markdown",
   "metadata": {},
   "source": [
    "<b>books_vector</b> and <b>users_vector</b> are the assignment of users and books to each of the <i>n</i> groups"
   ]
  },
  {
   "cell_type": "markdown",
   "metadata": {},
   "source": [
    "<h1>Using the model</h1>"
   ]
  },
  {
   "cell_type": "markdown",
   "metadata": {},
   "source": [
    "<h3>Intoducing a new user</h3>"
   ]
  },
  {
   "cell_type": "markdown",
   "metadata": {},
   "source": [
    "The new user is created using a list of favorite books"
   ]
  },
  {
   "cell_type": "code",
   "execution_count": 20,
   "metadata": {},
   "outputs": [],
   "source": [
    "user1=[497,3481,8502,263,1183,120,2343,112,267,159]"
   ]
  },
  {
   "cell_type": "markdown",
   "metadata": {},
   "source": [
    "The new user's list of favorite books"
   ]
  },
  {
   "cell_type": "code",
   "execution_count": 21,
   "metadata": {},
   "outputs": [
    {
     "data": {
      "text/html": [
       "<div>\n",
       "<style scoped>\n",
       "    .dataframe tbody tr th:only-of-type {\n",
       "        vertical-align: middle;\n",
       "    }\n",
       "\n",
       "    .dataframe tbody tr th {\n",
       "        vertical-align: top;\n",
       "    }\n",
       "\n",
       "    .dataframe thead th {\n",
       "        text-align: right;\n",
       "    }\n",
       "</style>\n",
       "<table border=\"1\" class=\"dataframe\">\n",
       "  <thead>\n",
       "    <tr style=\"text-align: right;\">\n",
       "      <th></th>\n",
       "      <th>authors</th>\n",
       "      <th>original_publication_year</th>\n",
       "      <th>original_title</th>\n",
       "      <th>language_code</th>\n",
       "    </tr>\n",
       "    <tr>\n",
       "      <th>book_id</th>\n",
       "      <th></th>\n",
       "      <th></th>\n",
       "      <th></th>\n",
       "      <th></th>\n",
       "    </tr>\n",
       "  </thead>\n",
       "  <tbody>\n",
       "    <tr>\n",
       "      <th>497</th>\n",
       "      <td>Leo Tolstoy</td>\n",
       "      <td>1869.0</td>\n",
       "      <td>Война и миръ</td>\n",
       "      <td>eng</td>\n",
       "    </tr>\n",
       "    <tr>\n",
       "      <th>3481</th>\n",
       "      <td>Franz Kafka</td>\n",
       "      <td>1926.0</td>\n",
       "      <td>Das Schloß</td>\n",
       "      <td>eng</td>\n",
       "    </tr>\n",
       "    <tr>\n",
       "      <th>8502</th>\n",
       "      <td>Thomas Mann</td>\n",
       "      <td>1901.0</td>\n",
       "      <td>Buddenbrooks: Verfall einer Familie</td>\n",
       "      <td>eng</td>\n",
       "    </tr>\n",
       "    <tr>\n",
       "      <th>263</th>\n",
       "      <td>Ernest Hemingway</td>\n",
       "      <td>1926.0</td>\n",
       "      <td>The Sun Also Rises</td>\n",
       "      <td>en-US</td>\n",
       "    </tr>\n",
       "    <tr>\n",
       "      <th>1183</th>\n",
       "      <td>F. Scott Fitzgerald</td>\n",
       "      <td>1933.0</td>\n",
       "      <td>Tender Is the Night</td>\n",
       "      <td>en-US</td>\n",
       "    </tr>\n",
       "    <tr>\n",
       "      <th>120</th>\n",
       "      <td>Vladimir Nabokov</td>\n",
       "      <td>1955.0</td>\n",
       "      <td>Lolita</td>\n",
       "      <td>eng</td>\n",
       "    </tr>\n",
       "    <tr>\n",
       "      <th>2343</th>\n",
       "      <td>Charles Bukowski</td>\n",
       "      <td>1975.0</td>\n",
       "      <td>Factotum</td>\n",
       "      <td>NaN</td>\n",
       "    </tr>\n",
       "    <tr>\n",
       "      <th>112</th>\n",
       "      <td>Joseph Heller</td>\n",
       "      <td>1961.0</td>\n",
       "      <td>Catch-22</td>\n",
       "      <td>en-US</td>\n",
       "    </tr>\n",
       "    <tr>\n",
       "      <th>267</th>\n",
       "      <td>Kazuo Ishiguro</td>\n",
       "      <td>2005.0</td>\n",
       "      <td>Never Let Me Go</td>\n",
       "      <td>eng</td>\n",
       "    </tr>\n",
       "    <tr>\n",
       "      <th>159</th>\n",
       "      <td>Charles Dickens</td>\n",
       "      <td>1860.0</td>\n",
       "      <td>Great Expectations</td>\n",
       "      <td>eng</td>\n",
       "    </tr>\n",
       "  </tbody>\n",
       "</table>\n",
       "</div>"
      ],
      "text/plain": [
       "                     authors  original_publication_year  \\\n",
       "book_id                                                   \n",
       "497              Leo Tolstoy                     1869.0   \n",
       "3481             Franz Kafka                     1926.0   \n",
       "8502             Thomas Mann                     1901.0   \n",
       "263         Ernest Hemingway                     1926.0   \n",
       "1183     F. Scott Fitzgerald                     1933.0   \n",
       "120         Vladimir Nabokov                     1955.0   \n",
       "2343        Charles Bukowski                     1975.0   \n",
       "112            Joseph Heller                     1961.0   \n",
       "267           Kazuo Ishiguro                     2005.0   \n",
       "159          Charles Dickens                     1860.0   \n",
       "\n",
       "                              original_title language_code  \n",
       "book_id                                                     \n",
       "497                             Война и миръ           eng  \n",
       "3481                              Das Schloß           eng  \n",
       "8502     Buddenbrooks: Verfall einer Familie           eng  \n",
       "263                       The Sun Also Rises         en-US  \n",
       "1183                     Tender Is the Night         en-US  \n",
       "120                                   Lolita           eng  \n",
       "2343                                Factotum           NaN  \n",
       "112                                 Catch-22         en-US  \n",
       "267                          Never Let Me Go           eng  \n",
       "159                       Great Expectations           eng  "
      ]
     },
     "execution_count": 21,
     "metadata": {},
     "output_type": "execute_result"
    }
   ],
   "source": [
    "books_df.loc[user1]"
   ]
  },
  {
   "cell_type": "markdown",
   "metadata": {},
   "source": [
    "Finding similar books for to the ones on the user's list"
   ]
  },
  {
   "cell_type": "code",
   "execution_count": 22,
   "metadata": {
    "scrolled": true
   },
   "outputs": [
    {
     "name": "stdout",
     "output_type": "stream",
     "text": [
      "Война и миръ\n",
      "['Война и миръ', 'Мастер и Маргарита', 'Don Quijote de La Mancha']\n",
      "Das Schloß\n",
      "['Das Schloß', 'All My Sons', 'Hyperspace: A Scientific Odyssey Through Parallel Universes, Time Warps, and the Tenth Dimension']\n",
      "Buddenbrooks: Verfall einer Familie\n",
      "['Buddenbrooks: Verfall einer Familie', 'Veinte poemas de amor y una canción desesperada', 'Babbitt']\n",
      "The Sun Also Rises\n",
      "['The Sun Also Rises', 'A Moveable Feast', 'Pnin']\n",
      "Tender Is the Night\n",
      "['Tender Is the Night', \"Who's Afraid of Virginia Woolf?\", 'The medium is the massage']\n",
      "Lolita\n",
      "['Lolita', 'Tortilla Flat', 'Cien años de soledad']\n",
      "Factotum\n",
      "['Factotum', 'The Haunting οf Hill House', 'Black Hawk Down']\n",
      "Catch-22\n",
      "['Catch-22', 'American Psycho', 'A Clockwork Orange']\n",
      "Never Let Me Go\n",
      "['Never Let Me Go', 'When We Were Orphans', 'Atonement']\n",
      "Great Expectations\n",
      "['Great Expectations', 'Die fröhliche Wissenschaft', nan]\n"
     ]
    }
   ],
   "source": [
    "find_similar_books(books_vector,user1,3)"
   ]
  },
  {
   "cell_type": "markdown",
   "metadata": {},
   "source": [
    "<h3>Applying the model to the new user</h3>"
   ]
  },
  {
   "cell_type": "code",
   "execution_count": 23,
   "metadata": {},
   "outputs": [],
   "source": [
    "new_user=create_new_user(user1,lda)"
   ]
  },
  {
   "cell_type": "markdown",
   "metadata": {},
   "source": [
    "<h2>Recommendations for the new user</h2>"
   ]
  },
  {
   "cell_type": "markdown",
   "metadata": {},
   "source": [
    "<h3>The groups that are relevant to the user</h3>"
   ]
  },
  {
   "cell_type": "code",
   "execution_count": 24,
   "metadata": {},
   "outputs": [
    {
     "name": "stdout",
     "output_type": "stream",
     "text": [
      "Group 78\n",
      "['Преступление и наказание', 'The Old Man and the Sea', 'The Sun Also Rises', 'A Farewell to Arms', 'Анна Каренина', 'L’Étranger', 'Братья Карамазовы', 'For Whom the Bell Tolls', 'Die Verwandlung', 'Nesnesitelná lehkost bytí']\n",
      "Group 38\n",
      "['Invisible Man', 'Lolita', 'As I Lay Dying', 'Catch-22', 'The Sound and the Fury', 'Nine Stories', 'Franny and Zooey', 'White Noise', 'Mrs Dalloway', 'Native Son ']\n",
      "Group 65\n",
      "['Atlas Shrugged', 'The Fountainhead', \"The Handmaid's Tale\", 'Atonement', 'The Historian', 'Life of Pi', 'La sombra del viento', 'Never Let Me Go', 'Oryx and Crake', 'The Blind Assassin']\n",
      "Group 36\n",
      "['A Walk in the Woods', 'Revolutionary Road', 'Down Under', 'Brideshead Revisited: The Sacred and Profane Memories of Captain Charles Ryder', 'American Pastoral', 'Notes from a Big Country', 'Through the Looking-Glass, and What Alice Found There', 'Of Human Bondage', 'The Celestine Prophecy', 'The Human Stain']\n",
      "Group 99\n",
      "[\"A People's History of the United States: 1492 to Present \", 'Ishmael: An Adventure of the Mind and Spirit', 'The Autobiography of Malcolm X', 'Post Office', 'Magician', 'Ham on Rye', 'Magician: Master (The Riftwar Saga, #2)', 'Fear and Loathing in Las Vegas: A Savage Journey to the Heart of the American Dream', 'A Darkness at Sethanon ', 'Collapse: How Societies Chose to Fail or Succeed']\n",
      "Group 94\n",
      "['Great Expectations', 'Oliver Twist', 'David Copperfield', 'Leaves of Grass', 'A Christmas Carol', nan, 'Walden; or Life in the Woods', 'Il Principe', 'A Tale of Two Cities', 'The Life and Strange Surprising Adventures of Robinson Crusoe of York, Mariner']\n"
     ]
    }
   ],
   "source": [
    "show_groups(books_vector,10,user_relevant_groups(new_user,n_topics))"
   ]
  },
  {
   "cell_type": "markdown",
   "metadata": {},
   "source": [
    "<h3>Recommended books</h3>"
   ]
  },
  {
   "cell_type": "code",
   "execution_count": 27,
   "metadata": {},
   "outputs": [
    {
     "data": {
      "text/html": [
       "<div>\n",
       "<style scoped>\n",
       "    .dataframe tbody tr th:only-of-type {\n",
       "        vertical-align: middle;\n",
       "    }\n",
       "\n",
       "    .dataframe tbody tr th {\n",
       "        vertical-align: top;\n",
       "    }\n",
       "\n",
       "    .dataframe thead th {\n",
       "        text-align: right;\n",
       "    }\n",
       "</style>\n",
       "<table border=\"1\" class=\"dataframe\">\n",
       "  <thead>\n",
       "    <tr style=\"text-align: right;\">\n",
       "      <th></th>\n",
       "      <th>authors</th>\n",
       "      <th>original_publication_year</th>\n",
       "      <th>original_title</th>\n",
       "      <th>user_index</th>\n",
       "    </tr>\n",
       "    <tr>\n",
       "      <th>book_id</th>\n",
       "      <th></th>\n",
       "      <th></th>\n",
       "      <th></th>\n",
       "      <th></th>\n",
       "    </tr>\n",
       "  </thead>\n",
       "  <tbody>\n",
       "    <tr>\n",
       "      <th>176</th>\n",
       "      <td>Fyodor Dostoyevsky</td>\n",
       "      <td>1866.0</td>\n",
       "      <td>Преступление и наказание</td>\n",
       "      <td>1189.462455</td>\n",
       "    </tr>\n",
       "    <tr>\n",
       "      <th>161</th>\n",
       "      <td>Albert Camus</td>\n",
       "      <td>1942.0</td>\n",
       "      <td>L’Étranger</td>\n",
       "      <td>882.707606</td>\n",
       "    </tr>\n",
       "    <tr>\n",
       "      <th>129</th>\n",
       "      <td>Ernest Hemingway</td>\n",
       "      <td>1952.0</td>\n",
       "      <td>The Old Man and the Sea</td>\n",
       "      <td>833.818049</td>\n",
       "    </tr>\n",
       "    <tr>\n",
       "      <th>263</th>\n",
       "      <td>Ernest Hemingway</td>\n",
       "      <td>1926.0</td>\n",
       "      <td>The Sun Also Rises</td>\n",
       "      <td>750.123569</td>\n",
       "    </tr>\n",
       "    <tr>\n",
       "      <th>400</th>\n",
       "      <td>Ernest Hemingway</td>\n",
       "      <td>1929.0</td>\n",
       "      <td>A Farewell to Arms</td>\n",
       "      <td>716.551020</td>\n",
       "    </tr>\n",
       "    <tr>\n",
       "      <th>171</th>\n",
       "      <td>Leo Tolstoy</td>\n",
       "      <td>1877.0</td>\n",
       "      <td>Анна Каренина</td>\n",
       "      <td>698.968200</td>\n",
       "    </tr>\n",
       "    <tr>\n",
       "      <th>484</th>\n",
       "      <td>Fyodor Dostoyevsky</td>\n",
       "      <td>1880.0</td>\n",
       "      <td>Братья Карамазовы</td>\n",
       "      <td>667.036864</td>\n",
       "    </tr>\n",
       "    <tr>\n",
       "      <th>394</th>\n",
       "      <td>Ernest Hemingway</td>\n",
       "      <td>1940.0</td>\n",
       "      <td>For Whom the Bell Tolls</td>\n",
       "      <td>627.148647</td>\n",
       "    </tr>\n",
       "    <tr>\n",
       "      <th>212</th>\n",
       "      <td>Franz Kafka</td>\n",
       "      <td>1915.0</td>\n",
       "      <td>Die Verwandlung</td>\n",
       "      <td>513.502736</td>\n",
       "    </tr>\n",
       "    <tr>\n",
       "      <th>735</th>\n",
       "      <td>Ralph Ellison</td>\n",
       "      <td>1952.0</td>\n",
       "      <td>Invisible Man</td>\n",
       "      <td>488.807015</td>\n",
       "    </tr>\n",
       "    <tr>\n",
       "      <th>120</th>\n",
       "      <td>Vladimir Nabokov</td>\n",
       "      <td>1955.0</td>\n",
       "      <td>Lolita</td>\n",
       "      <td>479.034913</td>\n",
       "    </tr>\n",
       "    <tr>\n",
       "      <th>322</th>\n",
       "      <td>Milan Kundera</td>\n",
       "      <td>1984.0</td>\n",
       "      <td>Nesnesitelná lehkost bytí</td>\n",
       "      <td>472.615611</td>\n",
       "    </tr>\n",
       "    <tr>\n",
       "      <th>300</th>\n",
       "      <td>Joseph Conrad</td>\n",
       "      <td>1899.0</td>\n",
       "      <td>Heart of Darkness</td>\n",
       "      <td>470.729721</td>\n",
       "    </tr>\n",
       "    <tr>\n",
       "      <th>497</th>\n",
       "      <td>Leo Tolstoy</td>\n",
       "      <td>1869.0</td>\n",
       "      <td>Война и миръ</td>\n",
       "      <td>465.485091</td>\n",
       "    </tr>\n",
       "    <tr>\n",
       "      <th>717</th>\n",
       "      <td>William Faulkner</td>\n",
       "      <td>1929.0</td>\n",
       "      <td>The Sound and the Fury</td>\n",
       "      <td>446.079301</td>\n",
       "    </tr>\n",
       "    <tr>\n",
       "      <th>591</th>\n",
       "      <td>Mikhail Bulgakov</td>\n",
       "      <td>1967.0</td>\n",
       "      <td>Мастер и Маргарита</td>\n",
       "      <td>436.859268</td>\n",
       "    </tr>\n",
       "    <tr>\n",
       "      <th>958</th>\n",
       "      <td>James Joyce</td>\n",
       "      <td>1916.0</td>\n",
       "      <td>A Portrait of the Artist as a Young Man</td>\n",
       "      <td>434.044653</td>\n",
       "    </tr>\n",
       "    <tr>\n",
       "      <th>93</th>\n",
       "      <td>Gabriel García Márquez</td>\n",
       "      <td>1967.0</td>\n",
       "      <td>Cien años de soledad</td>\n",
       "      <td>422.953315</td>\n",
       "    </tr>\n",
       "    <tr>\n",
       "      <th>596</th>\n",
       "      <td>Miguel de Cervantes Saavedra</td>\n",
       "      <td>1605.0</td>\n",
       "      <td>Don Quijote de La Mancha</td>\n",
       "      <td>410.692371</td>\n",
       "    </tr>\n",
       "    <tr>\n",
       "      <th>708</th>\n",
       "      <td>J.D. Salinger</td>\n",
       "      <td>1953.0</td>\n",
       "      <td>Nine Stories</td>\n",
       "      <td>392.648101</td>\n",
       "    </tr>\n",
       "    <tr>\n",
       "      <th>232</th>\n",
       "      <td>Gabriel García Márquez</td>\n",
       "      <td>1985.0</td>\n",
       "      <td>El amor en los tiempos del cólera</td>\n",
       "      <td>391.109313</td>\n",
       "    </tr>\n",
       "    <tr>\n",
       "      <th>613</th>\n",
       "      <td>Franz Kafka</td>\n",
       "      <td>1925.0</td>\n",
       "      <td>Der Prozeß</td>\n",
       "      <td>380.099911</td>\n",
       "    </tr>\n",
       "    <tr>\n",
       "      <th>482</th>\n",
       "      <td>J.D. Salinger</td>\n",
       "      <td>1961.0</td>\n",
       "      <td>Franny and Zooey</td>\n",
       "      <td>377.456119</td>\n",
       "    </tr>\n",
       "    <tr>\n",
       "      <th>112</th>\n",
       "      <td>Joseph Heller</td>\n",
       "      <td>1961.0</td>\n",
       "      <td>Catch-22</td>\n",
       "      <td>357.858362</td>\n",
       "    </tr>\n",
       "    <tr>\n",
       "      <th>1134</th>\n",
       "      <td>James Joyce</td>\n",
       "      <td>1914.0</td>\n",
       "      <td>Dubliners</td>\n",
       "      <td>356.051108</td>\n",
       "    </tr>\n",
       "    <tr>\n",
       "      <th>886</th>\n",
       "      <td>William Faulkner</td>\n",
       "      <td>1930.0</td>\n",
       "      <td>As I Lay Dying</td>\n",
       "      <td>352.990666</td>\n",
       "    </tr>\n",
       "    <tr>\n",
       "      <th>871</th>\n",
       "      <td>Albert Camus</td>\n",
       "      <td>1947.0</td>\n",
       "      <td>La peste</td>\n",
       "      <td>351.436338</td>\n",
       "    </tr>\n",
       "    <tr>\n",
       "      <th>159</th>\n",
       "      <td>Charles Dickens</td>\n",
       "      <td>1860.0</td>\n",
       "      <td>Great Expectations</td>\n",
       "      <td>286.304077</td>\n",
       "    </tr>\n",
       "    <tr>\n",
       "      <th>1213</th>\n",
       "      <td>James Joyce</td>\n",
       "      <td>1922.0</td>\n",
       "      <td>Ulysses</td>\n",
       "      <td>281.102815</td>\n",
       "    </tr>\n",
       "    <tr>\n",
       "      <th>4</th>\n",
       "      <td>F. Scott Fitzgerald</td>\n",
       "      <td>1925.0</td>\n",
       "      <td>The Great Gatsby</td>\n",
       "      <td>263.858045</td>\n",
       "    </tr>\n",
       "    <tr>\n",
       "      <th>254</th>\n",
       "      <td>Ayn Rand</td>\n",
       "      <td>1957.0</td>\n",
       "      <td>Atlas Shrugged</td>\n",
       "      <td>261.567709</td>\n",
       "    </tr>\n",
       "    <tr>\n",
       "      <th>1040</th>\n",
       "      <td>Fyodor Dostoyevsky</td>\n",
       "      <td>1868.0</td>\n",
       "      <td>Идиот</td>\n",
       "      <td>254.073564</td>\n",
       "    </tr>\n",
       "    <tr>\n",
       "      <th>172</th>\n",
       "      <td>Anthony Burgess</td>\n",
       "      <td>1962.0</td>\n",
       "      <td>A Clockwork Orange</td>\n",
       "      <td>252.404958</td>\n",
       "    </tr>\n",
       "    <tr>\n",
       "      <th>128</th>\n",
       "      <td>Ken Kesey</td>\n",
       "      <td>1962.0</td>\n",
       "      <td>One Flew Over the Cuckoo's Nest</td>\n",
       "      <td>251.134607</td>\n",
       "    </tr>\n",
       "    <tr>\n",
       "      <th>1311</th>\n",
       "      <td>Don DeLillo</td>\n",
       "      <td>1985.0</td>\n",
       "      <td>White Noise</td>\n",
       "      <td>248.812354</td>\n",
       "    </tr>\n",
       "    <tr>\n",
       "      <th>700</th>\n",
       "      <td>Virginia Woolf</td>\n",
       "      <td>1925.0</td>\n",
       "      <td>Mrs Dalloway</td>\n",
       "      <td>243.532710</td>\n",
       "    </tr>\n",
       "    <tr>\n",
       "      <th>1030</th>\n",
       "      <td>Ernest Hemingway</td>\n",
       "      <td>1964.0</td>\n",
       "      <td>A Moveable Feast</td>\n",
       "      <td>240.601324</td>\n",
       "    </tr>\n",
       "    <tr>\n",
       "      <th>286</th>\n",
       "      <td>Ayn Rand</td>\n",
       "      <td>1943.0</td>\n",
       "      <td>The Fountainhead</td>\n",
       "      <td>239.457767</td>\n",
       "    </tr>\n",
       "    <tr>\n",
       "      <th>1410</th>\n",
       "      <td>Richard Wright</td>\n",
       "      <td>1940.0</td>\n",
       "      <td>Native Son</td>\n",
       "      <td>236.661345</td>\n",
       "    </tr>\n",
       "    <tr>\n",
       "      <th>425</th>\n",
       "      <td>John Kennedy Toole</td>\n",
       "      <td>1980.0</td>\n",
       "      <td>A Confederacy of Dunces</td>\n",
       "      <td>228.895383</td>\n",
       "    </tr>\n",
       "    <tr>\n",
       "      <th>118</th>\n",
       "      <td>Margaret Atwood</td>\n",
       "      <td>1985.0</td>\n",
       "      <td>The Handmaid's Tale</td>\n",
       "      <td>226.958596</td>\n",
       "    </tr>\n",
       "    <tr>\n",
       "      <th>1183</th>\n",
       "      <td>F. Scott Fitzgerald</td>\n",
       "      <td>1933.0</td>\n",
       "      <td>Tender Is the Night</td>\n",
       "      <td>226.417172</td>\n",
       "    </tr>\n",
       "    <tr>\n",
       "      <th>1083</th>\n",
       "      <td>Virginia Woolf</td>\n",
       "      <td>1927.0</td>\n",
       "      <td>To The Lighthouse</td>\n",
       "      <td>224.043619</td>\n",
       "    </tr>\n",
       "    <tr>\n",
       "      <th>193</th>\n",
       "      <td>Herman Melville</td>\n",
       "      <td>1851.0</td>\n",
       "      <td>Moby Dick; or, The Whale</td>\n",
       "      <td>219.165733</td>\n",
       "    </tr>\n",
       "    <tr>\n",
       "      <th>396</th>\n",
       "      <td>Patrick Süskind</td>\n",
       "      <td>1985.0</td>\n",
       "      <td>Das Parfum. Die Geschichte eines Mörders</td>\n",
       "      <td>200.615427</td>\n",
       "    </tr>\n",
       "  </tbody>\n",
       "</table>\n",
       "</div>"
      ],
      "text/plain": [
       "                              authors  original_publication_year  \\\n",
       "book_id                                                            \n",
       "176                Fyodor Dostoyevsky                     1866.0   \n",
       "161                      Albert Camus                     1942.0   \n",
       "129                  Ernest Hemingway                     1952.0   \n",
       "263                  Ernest Hemingway                     1926.0   \n",
       "400                  Ernest Hemingway                     1929.0   \n",
       "171                       Leo Tolstoy                     1877.0   \n",
       "484                Fyodor Dostoyevsky                     1880.0   \n",
       "394                  Ernest Hemingway                     1940.0   \n",
       "212                       Franz Kafka                     1915.0   \n",
       "735                     Ralph Ellison                     1952.0   \n",
       "120                  Vladimir Nabokov                     1955.0   \n",
       "322                     Milan Kundera                     1984.0   \n",
       "300                     Joseph Conrad                     1899.0   \n",
       "497                       Leo Tolstoy                     1869.0   \n",
       "717                  William Faulkner                     1929.0   \n",
       "591                  Mikhail Bulgakov                     1967.0   \n",
       "958                       James Joyce                     1916.0   \n",
       "93             Gabriel García Márquez                     1967.0   \n",
       "596      Miguel de Cervantes Saavedra                     1605.0   \n",
       "708                     J.D. Salinger                     1953.0   \n",
       "232            Gabriel García Márquez                     1985.0   \n",
       "613                       Franz Kafka                     1925.0   \n",
       "482                     J.D. Salinger                     1961.0   \n",
       "112                     Joseph Heller                     1961.0   \n",
       "1134                      James Joyce                     1914.0   \n",
       "886                  William Faulkner                     1930.0   \n",
       "871                      Albert Camus                     1947.0   \n",
       "159                   Charles Dickens                     1860.0   \n",
       "1213                      James Joyce                     1922.0   \n",
       "4                 F. Scott Fitzgerald                     1925.0   \n",
       "254                          Ayn Rand                     1957.0   \n",
       "1040               Fyodor Dostoyevsky                     1868.0   \n",
       "172                   Anthony Burgess                     1962.0   \n",
       "128                         Ken Kesey                     1962.0   \n",
       "1311                      Don DeLillo                     1985.0   \n",
       "700                    Virginia Woolf                     1925.0   \n",
       "1030                 Ernest Hemingway                     1964.0   \n",
       "286                          Ayn Rand                     1943.0   \n",
       "1410                   Richard Wright                     1940.0   \n",
       "425                John Kennedy Toole                     1980.0   \n",
       "118                   Margaret Atwood                     1985.0   \n",
       "1183              F. Scott Fitzgerald                     1933.0   \n",
       "1083                   Virginia Woolf                     1927.0   \n",
       "193                   Herman Melville                     1851.0   \n",
       "396                   Patrick Süskind                     1985.0   \n",
       "\n",
       "                                   original_title   user_index  \n",
       "book_id                                                         \n",
       "176                      Преступление и наказание  1189.462455  \n",
       "161                                    L’Étranger   882.707606  \n",
       "129                       The Old Man and the Sea   833.818049  \n",
       "263                            The Sun Also Rises   750.123569  \n",
       "400                            A Farewell to Arms   716.551020  \n",
       "171                                 Анна Каренина   698.968200  \n",
       "484                             Братья Карамазовы   667.036864  \n",
       "394                       For Whom the Bell Tolls   627.148647  \n",
       "212                               Die Verwandlung   513.502736  \n",
       "735                                 Invisible Man   488.807015  \n",
       "120                                        Lolita   479.034913  \n",
       "322                     Nesnesitelná lehkost bytí   472.615611  \n",
       "300                             Heart of Darkness   470.729721  \n",
       "497                                  Война и миръ   465.485091  \n",
       "717                        The Sound and the Fury   446.079301  \n",
       "591                            Мастер и Маргарита   436.859268  \n",
       "958       A Portrait of the Artist as a Young Man   434.044653  \n",
       "93                           Cien años de soledad   422.953315  \n",
       "596                      Don Quijote de La Mancha   410.692371  \n",
       "708                                  Nine Stories   392.648101  \n",
       "232             El amor en los tiempos del cólera   391.109313  \n",
       "613                                    Der Prozeß   380.099911  \n",
       "482                              Franny and Zooey   377.456119  \n",
       "112                                      Catch-22   357.858362  \n",
       "1134                                    Dubliners   356.051108  \n",
       "886                                As I Lay Dying   352.990666  \n",
       "871                                      La peste   351.436338  \n",
       "159                            Great Expectations   286.304077  \n",
       "1213                                      Ulysses   281.102815  \n",
       "4                                The Great Gatsby   263.858045  \n",
       "254                                Atlas Shrugged   261.567709  \n",
       "1040                                        Идиот   254.073564  \n",
       "172                            A Clockwork Orange   252.404958  \n",
       "128               One Flew Over the Cuckoo's Nest   251.134607  \n",
       "1311                                  White Noise   248.812354  \n",
       "700                                  Mrs Dalloway   243.532710  \n",
       "1030                             A Moveable Feast   240.601324  \n",
       "286                              The Fountainhead   239.457767  \n",
       "1410                                  Native Son    236.661345  \n",
       "425                       A Confederacy of Dunces   228.895383  \n",
       "118                           The Handmaid's Tale   226.958596  \n",
       "1183                          Tender Is the Night   226.417172  \n",
       "1083                           To The Lighthouse    224.043619  \n",
       "193                      Moby Dick; or, The Whale   219.165733  \n",
       "396      Das Parfum. Die Geschichte eines Mörders   200.615427  "
      ]
     },
     "execution_count": 27,
     "metadata": {},
     "output_type": "execute_result"
    }
   ],
   "source": [
    "recommendation=user_recommended_books(new_user,books_vector,user1)\n",
    "recommendation"
   ]
  },
  {
   "cell_type": "markdown",
   "metadata": {},
   "source": [
    "<h3>Recommended authors</h3>"
   ]
  },
  {
   "cell_type": "code",
   "execution_count": 26,
   "metadata": {},
   "outputs": [
    {
     "data": {
      "text/plain": [
       "['Fyodor Dostoyevsky',\n",
       " 'Ernest Hemingway',\n",
       " 'Albert Camus',\n",
       " 'Leo Tolstoy',\n",
       " 'Ralph Ellison',\n",
       " 'Vladimir Nabokov',\n",
       " 'Milan Kundera',\n",
       " 'Joseph Conrad',\n",
       " 'Franz Kafka',\n",
       " 'Mikhail Bulgakov',\n",
       " 'Miguel de Cervantes Saavedra',\n",
       " 'Gabriel García Márquez',\n",
       " 'William Faulkner',\n",
       " 'J.D. Salinger',\n",
       " 'Joseph Heller',\n",
       " 'James Joyce',\n",
       " 'Charles Dickens',\n",
       " 'Anthony Burgess',\n",
       " 'Ken Kesey',\n",
       " 'Ayn Rand',\n",
       " 'Don DeLillo',\n",
       " 'F. Scott Fitzgerald',\n",
       " 'Richard Wright',\n",
       " 'Virginia Woolf',\n",
       " 'John Kennedy Toole',\n",
       " 'Margaret Atwood',\n",
       " 'Herman Melville',\n",
       " 'Patrick Süskind']"
      ]
     },
     "execution_count": 26,
     "metadata": {},
     "output_type": "execute_result"
    }
   ],
   "source": [
    "get_recommended_authors(recommendation)"
   ]
  },
  {
   "cell_type": "code",
   "execution_count": null,
   "metadata": {},
   "outputs": [],
   "source": []
  }
 ],
 "metadata": {
  "kernelspec": {
   "display_name": "Python 3",
   "language": "python",
   "name": "python3"
  },
  "language_info": {
   "codemirror_mode": {
    "name": "ipython",
    "version": 3
   },
   "file_extension": ".py",
   "mimetype": "text/x-python",
   "name": "python",
   "nbconvert_exporter": "python",
   "pygments_lexer": "ipython3",
   "version": "3.6.5"
  }
 },
 "nbformat": 4,
 "nbformat_minor": 2
}
