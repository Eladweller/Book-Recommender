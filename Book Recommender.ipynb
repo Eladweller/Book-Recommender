{
 "cells": [
  {
   "cell_type": "code",
   "execution_count": 1,
   "metadata": {},
   "outputs": [],
   "source": [
    "import numpy as np\n",
    "from scipy.sparse import lil_matrix\n",
    "import os\n",
    "import pickle\n",
    "import csv\n",
    "import pandas as pd\n",
    "import matplotlib.pyplot as plt\n",
    "from sklearn.decomposition import LatentDirichletAllocation as LDA\n",
    "from scipy.spatial import distance\n",
    "\n",
    "books_file = 'books.csv'\n",
    "users_ratings = 'books_ratings.csv'\n"
   ]
  },
  {
   "cell_type": "code",
   "execution_count": null,
   "metadata": {},
   "outputs": [],
   "source": []
  },
  {
   "cell_type": "code",
   "execution_count": 64,
   "metadata": {},
   "outputs": [],
   "source": [
    "def find_most_similar(vector,matrix):\n",
    "    return np.argsort(distance.cdist([vector],matrix,metric='cosine'))[::-1]\n",
    "\n",
    "def get_book_name(books_list,size):\n",
    "    book_names=[]\n",
    "    for book in books_list[0:size]:\n",
    "        book_names.append(books_df.iloc[book][\"original_title\"])\n",
    "    return book_names\n",
    "    \n",
    "def find_similar_books(books_vector,books_list,list_length):\n",
    "    for row in books_list:\n",
    "        book=books_vector[row,:]\n",
    "        similarity_list=find_most_similar(book,books_vector)[0]\n",
    "        print(books_df.iloc[row][\"original_title\"])\n",
    "        print(get_book_name(similarity_list,list_length))\n",
    "\n",
    "def show_groups(books_vector,list_length,list_of_groups=None):\n",
    "    books_vector_transpose=books_vector.transpose()\n",
    "    if list_of_groups==None:\n",
    "        iteration_range=range(0,n_topics)\n",
    "    else:\n",
    "        iteration_range=list_of_groups\n",
    "    for group in iteration_range:\n",
    "        print(\"Group\",group)\n",
    "        print(get_book_name(books_vector_transpose[group].argsort()[::-1],list_length))\n",
    "\n",
    "def create_new_user(reading_list,model):\n",
    "    user_matrix=lil_matrix((1,books_df.shape[0]),dtype='int')\n",
    "    for book in reading_list:\n",
    "        user_matrix[0,book]=5\n",
    "    result=model.transform(user_matrix)\n",
    "    return result[0]\n",
    "\n",
    "def user_recommended_books(user,books_vector):\n",
    "    temp_mulp=np.sum(np.multiply(new_user,books_vector),axis=1)\n",
    "    user_recommendations=books_df[~books_df.original_title.isin(new_user_books)]\n",
    "    user_recommendations=books_df.loc[:,['authors','original_publication_year','original_title']]\n",
    "    user_recommendations['user_index']=temp_mulp\n",
    "    user_recommendations=user_recommendations[user_recommendations.user_index>200]\n",
    "    return user_recommendations.sort_values('user_index',ascending=False)\n",
    "\n",
    "def get_recommended_authors(recommended_df):\n",
    "    authors=recommendation.groupby('authors').mean().sort_values('user_index',ascending=False).index\n",
    "    return list(authors)"
   ]
  },
  {
   "cell_type": "markdown",
   "metadata": {},
   "source": [
    "<h2>Read \"Books.csv\"</h2>"
   ]
  },
  {
   "cell_type": "code",
   "execution_count": 3,
   "metadata": {},
   "outputs": [
    {
     "name": "stdout",
     "output_type": "stream",
     "text": [
      "(10000, 4)\n"
     ]
    },
    {
     "data": {
      "text/html": [
       "<div>\n",
       "<style scoped>\n",
       "    .dataframe tbody tr th:only-of-type {\n",
       "        vertical-align: middle;\n",
       "    }\n",
       "\n",
       "    .dataframe tbody tr th {\n",
       "        vertical-align: top;\n",
       "    }\n",
       "\n",
       "    .dataframe thead th {\n",
       "        text-align: right;\n",
       "    }\n",
       "</style>\n",
       "<table border=\"1\" class=\"dataframe\">\n",
       "  <thead>\n",
       "    <tr style=\"text-align: right;\">\n",
       "      <th></th>\n",
       "      <th>authors</th>\n",
       "      <th>original_publication_year</th>\n",
       "      <th>original_title</th>\n",
       "      <th>language_code</th>\n",
       "    </tr>\n",
       "    <tr>\n",
       "      <th>book_id</th>\n",
       "      <th></th>\n",
       "      <th></th>\n",
       "      <th></th>\n",
       "      <th></th>\n",
       "    </tr>\n",
       "  </thead>\n",
       "  <tbody>\n",
       "    <tr>\n",
       "      <th>0</th>\n",
       "      <td>Suzanne Collins</td>\n",
       "      <td>2008.0</td>\n",
       "      <td>The Hunger Games</td>\n",
       "      <td>eng</td>\n",
       "    </tr>\n",
       "    <tr>\n",
       "      <th>1</th>\n",
       "      <td>J.K. Rowling</td>\n",
       "      <td>1997.0</td>\n",
       "      <td>Harry Potter and the Philosopher's Stone</td>\n",
       "      <td>eng</td>\n",
       "    </tr>\n",
       "    <tr>\n",
       "      <th>2</th>\n",
       "      <td>Stephenie Meyer</td>\n",
       "      <td>2005.0</td>\n",
       "      <td>Twilight</td>\n",
       "      <td>en-US</td>\n",
       "    </tr>\n",
       "    <tr>\n",
       "      <th>3</th>\n",
       "      <td>Harper Lee</td>\n",
       "      <td>1960.0</td>\n",
       "      <td>To Kill a Mockingbird</td>\n",
       "      <td>eng</td>\n",
       "    </tr>\n",
       "    <tr>\n",
       "      <th>4</th>\n",
       "      <td>F. Scott Fitzgerald</td>\n",
       "      <td>1925.0</td>\n",
       "      <td>The Great Gatsby</td>\n",
       "      <td>eng</td>\n",
       "    </tr>\n",
       "    <tr>\n",
       "      <th>5</th>\n",
       "      <td>John Green</td>\n",
       "      <td>2012.0</td>\n",
       "      <td>The Fault in Our Stars</td>\n",
       "      <td>eng</td>\n",
       "    </tr>\n",
       "    <tr>\n",
       "      <th>6</th>\n",
       "      <td>J.R.R. Tolkien</td>\n",
       "      <td>1937.0</td>\n",
       "      <td>The Hobbit or There and Back Again</td>\n",
       "      <td>en-US</td>\n",
       "    </tr>\n",
       "    <tr>\n",
       "      <th>7</th>\n",
       "      <td>J.D. Salinger</td>\n",
       "      <td>1951.0</td>\n",
       "      <td>The Catcher in the Rye</td>\n",
       "      <td>eng</td>\n",
       "    </tr>\n",
       "    <tr>\n",
       "      <th>8</th>\n",
       "      <td>Dan Brown</td>\n",
       "      <td>2000.0</td>\n",
       "      <td>Angels &amp; Demons</td>\n",
       "      <td>en-CA</td>\n",
       "    </tr>\n",
       "    <tr>\n",
       "      <th>9</th>\n",
       "      <td>Jane Austen</td>\n",
       "      <td>1813.0</td>\n",
       "      <td>Pride and Prejudice</td>\n",
       "      <td>eng</td>\n",
       "    </tr>\n",
       "  </tbody>\n",
       "</table>\n",
       "</div>"
      ],
      "text/plain": [
       "                     authors  original_publication_year  \\\n",
       "book_id                                                   \n",
       "0            Suzanne Collins                     2008.0   \n",
       "1               J.K. Rowling                     1997.0   \n",
       "2            Stephenie Meyer                     2005.0   \n",
       "3                 Harper Lee                     1960.0   \n",
       "4        F. Scott Fitzgerald                     1925.0   \n",
       "5                 John Green                     2012.0   \n",
       "6             J.R.R. Tolkien                     1937.0   \n",
       "7              J.D. Salinger                     1951.0   \n",
       "8                  Dan Brown                     2000.0   \n",
       "9                Jane Austen                     1813.0   \n",
       "\n",
       "                                   original_title language_code  \n",
       "book_id                                                          \n",
       "0                                The Hunger Games           eng  \n",
       "1        Harry Potter and the Philosopher's Stone           eng  \n",
       "2                                        Twilight         en-US  \n",
       "3                           To Kill a Mockingbird           eng  \n",
       "4                                The Great Gatsby           eng  \n",
       "5                          The Fault in Our Stars           eng  \n",
       "6              The Hobbit or There and Back Again         en-US  \n",
       "7                          The Catcher in the Rye           eng  \n",
       "8                                Angels & Demons          en-CA  \n",
       "9                             Pride and Prejudice           eng  "
      ]
     },
     "execution_count": 3,
     "metadata": {},
     "output_type": "execute_result"
    }
   ],
   "source": [
    "books_df=pd.read_csv(books_file,index_col='book_id')## book_id as index\n",
    "books_df['authors']=books_df.authors.apply(lambda x: x.split(\",\")[0])\n",
    "print(books_df.shape)\n",
    "books_df.head(10)"
   ]
  },
  {
   "cell_type": "markdown",
   "metadata": {},
   "source": [
    "<h2>Read \"books_ratings.csv\"</h2>"
   ]
  },
  {
   "cell_type": "code",
   "execution_count": 4,
   "metadata": {},
   "outputs": [],
   "source": [
    "users_liked={}\n",
    "loc_user_id={}\n",
    "loc_id_user={}\n",
    "c=0\n",
    "with open(users_ratings) as file1:\n",
    "    csv_users=csv.reader(file1)\n",
    "    next(csv_users)\n",
    "    for row in csv_users:\n",
    "        user_id,book_id,rating=row[0],row[1],int(row[2])\n",
    "        if rating>=4:\n",
    "            if user_id not in loc_user_id.keys():\n",
    "                loc_user_id[user_id]=c\n",
    "                loc_id_user[c]=user_id\n",
    "                c+=1\n",
    "            users_liked[user_id]=users_liked.get(user_id,dict())\n",
    "            users_liked[user_id][book_id]=rating"
   ]
  },
  {
   "cell_type": "markdown",
   "metadata": {},
   "source": [
    "<h2> Define sparse matrix with local user id as rows and book ids as columns</h2>"
   ]
  },
  {
   "cell_type": "code",
   "execution_count": 5,
   "metadata": {},
   "outputs": [
    {
     "data": {
      "text/plain": [
       "(13071, 10000)"
      ]
     },
     "execution_count": 5,
     "metadata": {},
     "output_type": "execute_result"
    }
   ],
   "source": [
    "sparse_matrix=lil_matrix((c,books_df.shape[0]),dtype='int')\n",
    "sparse_matrix.shape"
   ]
  },
  {
   "cell_type": "markdown",
   "metadata": {},
   "source": [
    "<h2>fill the sparse matrix with data</h2>"
   ]
  },
  {
   "cell_type": "code",
   "execution_count": 6,
   "metadata": {},
   "outputs": [],
   "source": [
    "for user,liked in users_liked.items():\n",
    "    for book_str,rating in liked.items():\n",
    "        book=int(book_str)\n",
    "        sparse_matrix[loc_user_id[user],book]=rating"
   ]
  },
  {
   "cell_type": "code",
   "execution_count": 7,
   "metadata": {},
   "outputs": [
    {
     "name": "stdout",
     "output_type": "stream",
     "text": [
      "sparcity= 0.005159077346798256\n"
     ]
    }
   ],
   "source": [
    "print(\"sparcity=\",sparse_matrix.nnz/(sparse_matrix.shape[0]*sparse_matrix.shape[1]))"
   ]
  },
  {
   "cell_type": "markdown",
   "metadata": {},
   "source": [
    "<h2>Train the LDA model</h2>"
   ]
  },
  {
   "cell_type": "code",
   "execution_count": 8,
   "metadata": {},
   "outputs": [],
   "source": [
    "n_topics=100\n",
    "lda = LDA(n_topics=n_topics,max_iter=50)"
   ]
  },
  {
   "cell_type": "code",
   "execution_count": 9,
   "metadata": {
    "scrolled": true
   },
   "outputs": [
    {
     "name": "stderr",
     "output_type": "stream",
     "text": [
      "C:\\Users\\User\\Anaconda3\\lib\\site-packages\\sklearn\\decomposition\\online_lda.py:294: DeprecationWarning: n_topics has been renamed to n_components in version 0.19 and will be removed in 0.21\n",
      "  DeprecationWarning)\n",
      "C:\\Users\\User\\Anaconda3\\lib\\site-packages\\sklearn\\decomposition\\online_lda.py:536: DeprecationWarning: The default value for 'learning_method' will be changed from 'online' to 'batch' in the release 0.20. This warning was introduced in 0.18.\n",
      "  DeprecationWarning)\n"
     ]
    }
   ],
   "source": [
    "lda.fit(sparse_matrix)\n",
    "books_vector=lda.components_.transpose()\n",
    "users_vector=lda.transform(sparse_matrix)\n",
    "books_df[\"group\"]=np.argmax(books_vector,axis=1)"
   ]
  },
  {
   "cell_type": "code",
   "execution_count": 10,
   "metadata": {
    "scrolled": true
   },
   "outputs": [
    {
     "name": "stdout",
     "output_type": "stream",
     "text": [
      "Война и миръ\n",
      "['Война и миръ', 'Анна Каренина', 'Dubliners', 'The Magus', 'Madame Bovary', 'A Portrait of the Artist as a Young Man', 'Heart of Darkness', 'Der Steppenwolf: Erzählung', 'Pygmalion and Three Other Plays', 'Four Great Tragedies: Hamlet, Othello, King Lear, Macbeth (Signet Classics)']\n",
      "Das Schloß\n",
      "['Das Schloß', \"L'Existentialisme est un humanisme \", 'Dog on It', 'Aura', 'Saving Francesca', 'The Snowman', 'Ensaio Sobre a Lucidez', 'A Briefer History of Time', ' سمفونی مردگان', nan]\n",
      "Buddenbrooks: Verfall einer Familie\n",
      "['Buddenbrooks: Verfall einer Familie', 'Alexander Hamilton', 'The Fire Next Time', 'The War of Art: Break Through the Blocks and Win Your Inner Creative Battles', 'Mythologies', 'The Johnstown Flood', 'Герой нашего времени', '午後の曳航 [Gogo no eikō]', 'A Distant Mirror: The Calamitous 14th Century', 'Battle Cry of Freedom']\n",
      "The Sun Also Rises\n",
      "['The Sun Also Rises', 'Phänomenologie des Geistes', 'Ball Four', 'Записки из Мёртвого дома', 'The Day of the Locust', 'In der Strafkolonie', \"Histoire de l'oeil\", 'Fifth Business', 'Дядя Ваня', 'Quo vadis?']\n",
      "Tender Is the Night\n",
      "['Tender Is the Night', 'Sometimes a Great Notion', 'Of Human Bondage', 'Selected Poems', 'The Moviegoer', 'Shelter', 'Social Intelligence: The New Science of Human Relationships', 'Two Treatises of Government', 'The Wave', 'The neon rain']\n",
      "Lolita\n",
      "['Lolita', 'Cien años de soledad', 'Catch-22', 'O Homem Duplicado', '神の子どもたちはみな踊る', 'The Satanic Verses', 'Nesnesitelná lehkost bytí', 'Naked Economics: Undressing the Dismal Science', 'A House for Mr. Biswas', 'Rabbit, Run']\n",
      "Factotum\n",
      "['Factotum', 'Black Hawk Down', 'A Spot of Bother', 'The Worst Hard Time: The Untold Story of Those Who Survived the Great American Dust Bowl', 'The Crossing ', 'Erections, Ejaculations, Exhibitions and General Tales of Ordinary Madness', 'Women', 'Cities of the Plain ', 'The Winter of our Discontent', 'Συμπόσιον']\n",
      "Catch-22\n",
      "['Catch-22', 'Ceremony', 'Kniha smíchu a zapomnění', 'Мастер и Маргарита', 'Ask the dust ', 'Lolita', 'Nesmrtelnost', 'The Moviegoer', 'Rabbit, Run', \"L'identité\"]\n",
      "Never Let Me Go\n",
      "['Never Let Me Go', 'Everything Is Illuminated', 'White Teeth', 'American Pastoral', 'On Beauty', 'Special Topics in Calamity Physics', 'Saturday', 'The Plot Against America', 'Straight Man', 'The Human Stain']\n",
      "Great Expectations\n",
      "['Great Expectations', nan, 'Birdman', 'Нос', 'The Fall of the House of Usher and Other Writings', 'The medium is the massage', 'Livro do Desassossego', 'Logisch-Philosophische Abhandlung', 'Economics in One Lesson', 'Sieben Jahre in Tibet']\n",
      "Voyage au bout de la nuit\n",
      "['Voyage au bout de la nuit', 'No Logo', \"Gravity's Rainbow\", 'Il pendolo di Foucault', 'The Naked Lunch', 'On the Road', 'A Clockwork Orange', 'Siddhartha', 'No Exit and Three Other Plays', 'Der Zauberberg']\n"
     ]
    }
   ],
   "source": [
    "find_similar_books(books_vector,[497,3481,8502,263,1183,120,2343,112,267,159,4671],10)"
   ]
  },
  {
   "cell_type": "code",
   "execution_count": 11,
   "metadata": {
    "scrolled": false
   },
   "outputs": [
    {
     "name": "stdout",
     "output_type": "stream",
     "text": [
      "Group 0\n",
      "['A Game of Thrones', 'A Clash of Kings', 'A Storm of Swords', 'A Feast for Crows', 'The Name of the Wind', 'Dune', 'I, Robot', '2001: A Space Odyssey', 'Sphere', 'A Dance with Dragons']\n",
      "Group 1\n",
      "['Under the Dome', 'The Colour of Magic', 'Night Watch', 'Mort', 'Guards! Guards!', 'Reaper Man', 'Small Gods', 'Going Postal', 'Hogfather', 'Wyrd Sisters']\n",
      "Group 2\n",
      "['The Wizard Heir', 'The High Lord', 'The Novice', 'The Last Kingdom', 'Darkest Mercy', \"The Magicians' Guild\", 'Percy Jackson and the Olympians Boxed Set', 'The Pale Rider', 'Enemy of God', 'The Lords of the North']\n",
      "Group 3\n",
      "['Shutter Island', 'Dance Upon The Air', 'Face the Fire (Three Sisters Island, #3)', 'Tell No One', 'Heaven and Earth (Three Sisters Island, #2)', 'The Woods', 'Jewels of the Sun', 'Tears of the Moon', 'Born in Fire ', 'Black Rose']\n",
      "Group 4\n",
      "['Angels & Demons ', 'Deception Point', 'Digital Fortress', 'Left to Tell: Discovering God Amidst the Rwandan Holocaust', 'Kane and Abel', 'The Book of Negroes', 'Five Quarters of the Orange', 'The Day of the Jackal', 'Tao of Pooh and Te of Piglet Boxed Set', 'Map of Bones']\n",
      "Group 5\n",
      "[\"Band of Brothers: E Company, 506th Regiment, 101st Airborne from Normandy to Hitler's Eagle's Nest\", 'Johnny Got His Gun', 'Lies and the Lying Liars Who Tell Them: A Fair and Balanced Look at the Right', 'Sick Puppy', 'Black 1. The Birth of Evil', 'Red', 'White', 'The Greatest Show on Earth: The Evidence for Evolution', 'Our Mutual Friend', 'The Final Solution: A Story of Detection']\n",
      "Group 6\n",
      "['Freakonomics: A Rogue Economist Explores the Hidden Side of Everything', 'Into Thin Air: A Personal Account of the Mt. Everest Disaster', 'Into the Wild', 'The Tipping Point: How Little Things Can Make a Big Difference', 'Blink: The Power of Thinking Without Thinking', 'A Walk in the Woods', 'Outliers: The Story of Success', 'Under the Banner of Heaven: A Story of Violent Faith', 'The Devil in the White City: Murder, Magic, and Madness at the Fair that Changed America', 'Stiff: The Curious Lives of Human Cadavers']\n",
      "Group 7\n",
      "['The Notebook', 'The Historian', 'The Tale of Peter Rabbit', 'A Discovery of Witches', 'Beowulf', 'Jesus the Christ: A Study of the Messiah and His Mission according to Holy Scriptures both Ancient and Modern', 'Cat on a Hot Tin Roof', nan, 'Split Second', 'Hour Game']\n",
      "Group 8\n",
      "['The Eye of the World', 'The Great Hunt', 'The Dragon Reborn ', 'The Shadow Rising ', \"Wizard's First Rule\", 'The Fires of Heaven', nan, 'Stone of Tears', 'A Crown of Swords', 'Knife of Dreams']\n",
      "Group 9\n",
      "['Lock and Key', 'Where Are the Children?', 'Loves Music, Loves to Dance', 'Remember Me ', 'While My Pretty One Sleeps', 'The Cradle Will Fall', 'You Belong to Me', 'A Stranger Is Watching', 'Let Me Call You Sweetheart', \"I'll Be Seeing You\"]\n",
      "Group 10\n",
      "['Преступление и наказание', 'L’Étranger', 'The Sun Also Rises', 'Die Verwandlung', 'A Farewell to Arms', 'Братья Карамазовы', 'For Whom the Bell Tolls', 'The Picture of Dorian Gray', 'The Old Man and the Sea', 'Lolita']\n",
      "Group 11\n",
      "['The Boy in the Striped Pyjamas', 'Superfudge', 'Tales of a Fourth Grade Nothing', 'The Indian in the Cupboard', 'Olivia', 'The Gold Coast', 'Plum Island', 'Night Fall', 'Up Country', \"The General's Daughter\"]\n",
      "Group 12\n",
      "['Holes', 'The Book Thief', 'Speak', 'Pretties', 'Ella Enchanted', 'Stargirl', 'The Hunger Games', ' The Tale of Despereaux', 'Specials', 'Catching Fire']\n",
      "Group 13\n",
      "['Dark Lover', 'Lover Awakened (Black Dagger Brotherhood, #3)', 'Lover Eternal (Black Dagger Brotherhood, #2)', 'Lover Unbound', 'Lover Revealed', 'Lover Enshrined, part one', 'Lover Enshrined, part two', 'Lover Avenged, part one', 'Blue Dahlia', 'Silver Borne']\n",
      "Group 14\n",
      "['The Ruins of Gorlan', 'The Burning Bridge', 'Into the Wild', \"The Battle for Skandia (Ranger's Apprentice, #4)\", 'The Sorcerer in the North', 'Undead and Unwed', 'The Icebound Land', 'The Siege of Macindaw', 'The Quillan Games', nan]\n",
      "Group 15\n",
      "['Nineteen Minutes', 'The Pact', 'Plain Truth', 'Vanishing Acts', 'Change of Heart', 'Handle with Care', 'Firefly Lane', 'House Rules', 'Keeping Faith', 'Salem Falls']\n",
      "Group 16\n",
      "[\"The Omnivore's Dilemma\", 'A Short History of Nearly Everything', \"In Defense of Food: An Eater's Manifesto\", 'Down Under', 'Pope Joan', 'The Immortal Life of Henrietta Lacks', 'Notes from a Big Country', 'Notes from a Small Island', 'The Life and Times of The Thunderbolt Kid: A Memoir', 'Standing for Something: 10 Neglected Virtues That Will Heal Our Hearts and Homes']\n",
      "Group 17\n",
      "['Stranger in a Strange Land', 'Foundation', 'Foundation and Empire', nan, \"Foundation's Edge\", 'Foundation and Earth', 'The Caves of Steel', 'Prelude to Foundation', 'The Naked Sun', 'The Robots of Dawn']\n",
      "Group 18\n",
      "['American Gods', 'Neverwhere', 'Stardust', 'Coraline', 'Good Omens: The Nice and Accurate Prophecies of Agnes Nutter, Witch', 'Anansi Boys', 'Preludes & Nocturnes', \"The Doll's House\", 'Redwall', 'The Sandman: Season of Mists']\n",
      "Group 19\n",
      "['Dracula', 'World War Z: An Oral History of the Zombie War', 'The Alienist', 'The Lincoln Lawyer ', \"Scott Pilgrim, Volume 1: Scott Pilgrim's Precious Little Life\", 'The Rum Diary', 'Tender at the Bone: Growing Up at the Table', 'Scott Pilgrim, Volume 2: Scott Pilgrim vs. The World', 'The Black Echo', 'Scott Pilgrim, Volume 4: Scott Pilgrim Gets It Together']\n",
      "Group 20\n",
      "['Tuesdays with Morrie', 'Jonathan Livingston Seagull', 'One Day', 'Chocolat', \"The Razor's Edge\", 'Illusions: The Adventures of a Reluctant Messiah', \"What to Expect When You're Expecting\", 'The Story of My Life', 'Βίος και πολιτεία του Αλέξη Ζορμπά', \"L'Amant\"]\n",
      "Group 21\n",
      "['Confessions of a Shopaholic', 'The Call of the Wild', 'White Fang', 'All Creatures Great And Small', 'Shopaholic Abroad', 'Shopaholic Ties the Knot', 'Circle of Friends', 'Shopaholic and Baby', 'Shopaholic and Sister', 'Tara Road']\n",
      "Group 22\n",
      "['Watchmen', 'V for Vendetta', 'The Complete Maus', 'Maus II : And Here My Troubles Began ', 'House of Leaves', 'Infinite Jest', 'Blankets', 'Narrative of the Life of Frederick Douglass', '100 Selected Poems by e. e. Cummings', \"A Supposedly Fun Thing I'll Never Do Again: Essays and Arguments\"]\n",
      "Group 23\n",
      "['The Silence of the Lambs', 'Anne of Green Gables', 'Anne of Avonlea', 'Anne of the Island', 'Red Dragon', 'Rainbow Valley', 'Anne of Windy Poplars', 'Hannibal', 'Anne of Ingleside', 'Making Money']\n",
      "Group 24\n",
      "['Jitterbug Perfume', 'Still Life with Woodpecker', 'Even Cowgirls Get the Blues', 'Pippi Långstrump', 'Skinny Legs and All', \"A Connecticut Yankee in King Arthur's Court\", 'Another Roadside Attraction', 'Fierce Invalids Home From Hot Climates', 'The House on Mango Street', 'Half Asleep in Frog Pajamas']\n",
      "Group 25\n",
      "['Memoirs of a Geisha', 'The Secret Life of Bees', 'Little Women', 'The Kite Runner ', 'The Joy Luck Club', 'The Da Vinci Code', 'Het Achterhuis: Dagboekbrieven 14 juni 1942 - 1 augustus 1944', 'The Lovely Bones', 'Pride and Prejudice', 'Gone with the Wind']\n",
      "Group 26\n",
      "['Gone with the Wind', 'The Thorn Birds', 'The Chosen', 'Roots', 'My Name Is Asher Lev', 'The Bridges of Madison County', 'Exodus', \"Little Men, or Life at Plumfield with Jo's Boys\", 'Mary Poppins', 'Hawaii']\n",
      "Group 27\n",
      "['Flowers in the Attic', 'Patriot Games', 'Clear and Present Danger', 'Sybil', 'Red Storm Rising', 'The Sum of All Fears', 'Rainbow Six', 'The Missing Piece Meets the Big O', 'Executive Orders', 'Without Remorse']\n",
      "Group 28\n",
      "['The Adventures of Sherlock Holmes', 'The Amulet of Samarkand', \"Ptolemy's Gate\", \"The Golem's Eye\", 'How to Win Friends and Influence People', 'Fantastic Beasts and Where to Find Them', 'A Study in Scarlet', 'Fables, Volume 1: Legends in Exile', 'Quidditch Through the Ages', 'The Complete Works']\n",
      "Group 29\n",
      "['Outlander', 'Dragonfly in Amber', 'Voyager', 'Drums of Autumn (Outlander, #4)', 'The Fiery Cross', 'A Breath of Snow and Ashes', 'Alanna: The First Adventure', 'In the Hand of the Goddess', 'An Echo in the Bone', 'The Woman Who Rides Like a Man']\n",
      "Group 30\n",
      "['The Lightning Thief', 'The Sea of Monsters', 'The Battle of the Labyrinth', \"The Titan's Curse\", 'The Last Olympian', 'Eldest', 'Artemis Fowl', 'Tintenherz', 'The Bad Beginning', 'Eragon']\n",
      "Group 31\n",
      "['A Wizard of Earthsea', 'Il nome della rosa', 'The Left Hand of Darkness', 'The Tombs of Atuan', 'The New York Trilogy', \"Surely You're Joking, Mr. Feynman! Adventures of a Curious Character\", 'The Farthest Shore', 'Enchantment', 'The Dispossessed', 'On the Origin of Species by Means of Natural Selection or the Preservation of Favoured Races in the Struggle for Life']\n",
      "Group 32\n",
      "[\"The Handmaid's Tale\", 'The Color Purple', 'Beloved', 'Their Eyes Were Watching God', 'A Separate Peace', 'I Know Why the Caged Bird Sings', 'The Bluest Eye', 'Oryx and Crake', 'Song of Solomon', \"One Flew Over the Cuckoo's Nest\"]\n",
      "Group 33\n",
      "['The Body Farm', 'Post-Mortem:  A Mystery Introducing Dr. Kay Scarpetta', 'Body of Evidence ', 'All That Remains', \"From Potter's Field\", 'Point of Origin', 'Cause of Death', 'Unnatural Exposure', 'Black Notice', 'The Last Precinct']\n",
      "Group 34\n"
     ]
    },
    {
     "name": "stdout",
     "output_type": "stream",
     "text": [
      "['The Perks of Being a Wallflower', \"The No. 1 Ladies' Detective Agency \", 'Just Listen', 'This Lullaby', 'Tears of the Giraffe', 'Morality for Beautiful Girls', 'The Kalahari Typing School for Men', 'Crank (Crank, #1)', 'The Full Cupboard of Life', 'Someone Like You']\n",
      "Group 35\n",
      "['Ἰλιάς', 'Ὀδύσσεια', 'Inferno', 'Frankenstein; or, The Modern Prometheus', 'American Psycho', 'Paradise Lost', 'La Divina Commedia', 'Tales of Caunterbury', 'Leaves of Grass', 'Οἰδίπους Τύραννος']\n",
      "Group 36\n",
      "['Wake', 'Heart-Shaped Box', \"Don't Let the Pigeon Drive the Bus\", 'Altered Carbon', 'The Snowy Day', '84, Charing Cross Road', 'The Wasp Factory', 'The Player of Games', 'Consider Phlebas', 'Princess of the Midnight Ball']\n",
      "Group 37\n",
      "['The Shack: Where Tragedy Confronts Eternity', 'Mere Christianity', 'Same Kind of Different as Me', nan, 'The Sparrow', 'Blue Like Jazz: Nonreligious Thoughts on Christian Spirituality', 'The Black Cauldron', 'The Book of Three', 'The Hiding Place', 'The High King ']\n",
      "Group 38\n",
      "['Halfway to the Grave', 'One Foot in the Grave', 'Night Pleasures', \"At Grave's End\", 'Night Embrace (Dark-Hunter, #2)', 'Dance with the Devil', 'Seize the Night', 'Night Play', 'Destined for an Early Grave', 'Transmetropolitan, Vol. 1: Back on the Street']\n",
      "Group 39\n",
      "[\"Ender's Game\", 'Fight Club', 'Speaker for the Dead', \"Ender's Shadow\", 'Choke', 'Survivor', 'Xenocide', 'Invisible Monsters', 'Lullaby', 'Shadow of the Hegemon']\n",
      "Group 40\n",
      "['One for the Money', 'Two for the Dough', 'Four to Score ', 'Three to Get Deadly', 'Hot Six', 'Seven Up', 'Hard Eight', 'High Five', 'To the Nines', 'Twelve Sharp']\n",
      "Group 41\n",
      "['Storm Front', 'Guilty Pleasures', 'Summer Knight', 'Grave Peril', 'Fool Moon ', 'Circus of the Damned (Anita Blake, Vampire Hunter, #3)', 'The Laughing Corpse', 'Bloody Bones', 'Death Masks', 'The Lunatic Cafe']\n",
      "Group 42\n",
      "['Killing Floor', 'A is for Alibi', 'B is for Burglar', '\"D\" is for Deadbeat ', 'One Shot', 'H is for Homicide', 'F is for Fugitive', 'C is for Corpse', 'Die Trying (Jack Reacher, #2)', 'I is for Innocent']\n",
      "Group 43\n",
      "['A Time to Kill', 'The Firm', 'The Bourne Identity', 'The Pelican Brief', 'The Client', 'The Runaway Jury', 'The Hunt for Red October', 'The Rainmaker', 'The Da Vinci Code', 'The Chamber']\n",
      "Group 44\n",
      "['Complete Harry Potter Boxed Set', 'Ensaio Sobre a Cegueira', 'The Complete Anne of Green Gables Boxed Set', 'Silas Marner: The Weaver of Raveloe', 'The Celestine Prophecy', 'Eventyr og historier', \"He's Just Not That Into You: The No-Excuses Truth to Understanding Guys\", 'Shūtur eli sharrī', 'Die Leiden des jungen Werthers', \"Le deuxième sexe: I. Les faits et les mythes, II. L'expérience vécue\"]\n",
      "Group 45\n",
      "[\"Lamb: The Gospel According to Biff, Christ's Childhood Pal\", 'Zeitoun', 'A Dirty Job', 'What Is the What: The Autobiography of Valentino Achak Deng', 'In the Time of the Butterflies', 'The Alchemyst: The Secrets of The Immortal Nicholas Flamel', 'Just Kids', 'You Shall Know Our Velocity!', 'You Suck ', 'Then We Came to the End']\n",
      "Group 46\n",
      "['Good in Bed', 'Jemima J', 'Little Earthquakes', 'The Devil Wears Prada', 'Mr Maybe', 'Twenties Girl', 'Goodnight Nobody', 'Certain Girls', \"Rachel's Holiday\", 'Anybody Out There?']\n",
      "Group 47\n",
      "['Анна Каренина', \"Tess of the d'Urbervilles: A Pure Woman Faithfully Presented\", \"Breakfast at Tiffany's\", 'Walden; or Life in the Woods', 'The Age of Innocence', 'Madame Bovary', 'A Room with a View', \"Lady Chatterley's Lover\", 'Ethan Frome', 'Война и миръ']\n",
      "Group 48\n",
      "['The Stand', 'It', 'The Shining', 'Interview with the Vampire', 'Different Seasons', 'The Gunslinger', 'The Vampire Lestat', 'Misery', 'The Drawing of the Three', 'The Green Mile']\n",
      "Group 49\n",
      "['The Work and the Glory, Vol. 1: Pillar of Light', 'デスノート #1 (Desu Nōto) Taikutsu (退屈)', 'Horns', 'The Clique (The Clique, #1)', 'デスノート #2 (Desu Nōto) Gōryū (合流)', 'Invasion of the Boy Snatchers', 'Revenge of the Wannabes (The Clique, #3)', 'Best Friends for Never (The Clique, #2)', 'デスノート #4 (Desu Nōto) Koigokoro (恋心)', 'デスノート #3 (Desu Nōto) Gekisō (激走)']\n",
      "Group 50\n",
      "['The Hunger Games', 'Catching Fire', 'Dead Until Dark', 'Mockingjay', 'Dead to the World', 'Club Dead', 'Living Dead in Dallas', 'Dead as a Doornail ', 'All Together Dead', 'Definitely Dead (Sookie Stackhouse, #6)']\n",
      "Group 51\n",
      "['O Alquimista', 'Le Petit Prince', 'Les Trois Mousquetaires', 'The Prophet', '…trotzdem Ja zum Leben sagen: Ein Psychologe erlebt das Konzentrationslager', 'Le Comte de Monte-Cristo', 'Sofies Verden', 'Shantaram', 'Les Misérables', 'Vingt Mille Lieues Sous les Mers']\n",
      "Group 52\n",
      "['Naked', 'Me Talk Pretty One Day', 'Dress Your Family in Corduroy and Denim', \"Cat's Cradle\", 'Breakfast of Champions', \"Slaughterhouse-Five, or The Children's Crusade: A Duty-Dance with Death \", 'When You Are Engulfed in Flames', 'Holidays on Ice', 'The Sirens of Titan', \"America (The Book): A Citizen's Guide to Democracy Inaction\"]\n",
      "Group 53\n",
      "['The Godfather', 'The Complete Tales of Edgar Allan Poe', 'Midnight in the Garden of Good and Evil', 'Something Wicked This Way Comes', \"Sophie's Choice\", 'Shōgun', 'Watership Down', 'The Martian Chronicles', 'Mystic River', 'The Illustrated Man']\n",
      "Group 54\n",
      "[\"Marley & Me: Life and Love with the World's Worst Dog\", 'A Child Called \"It\": One Child\\'s Courage to Survive', 'Where the Heart Is', nan, 'Wild Swans: Three Daughters of China', 'Cold Sassy Tree', 'Wayside School is Falling Down', nan, 'Jacob Have I Loved', \"The Pilot's Wife\"]\n",
      "Group 55\n",
      "['Harry Potter and the Deathly Hallows', 'Harry Potter and the Goblet of Fire', 'Harry Potter and the Prisoner of Azkaban', 'Harry Potter and the Half-Blood Prince', 'Harry Potter and the Order of the Phoenix', 'Harry Potter and the Chamber of Secrets', \"Harry Potter and the Philosopher's Stone\", 'The Da Vinci Code', 'To Kill a Mockingbird', 'The Giver']\n",
      "Group 56\n",
      "['When You Reach Me', 'Have a Little Faith: A True Story', 'Johnny Tremain', 'The Joy of Cooking', 'Sloppy Firsts (Jessica Darling, #1)', \"Nick & Norah's Infinite Playlist\", 'The Cay', 'Love, Stargirl', 'Caddie Woodlawn', 'Going Solo']\n",
      "Group 57\n",
      "['Persepolis', 'The Graveyard Book', 'Holes', 'Eats, Shoots and Leaves', 'Pride and Prejudice and Zombies', 'Y: The Last Man, Vol. 1: Unmanned', 'The Book of Lost Things', \"The Year of Living Biblically: One Man's Humble Quest to Follow the Bible As Literally As Possible\", 'Bury My Heart at Wounded Knee: An Indian History of the American West', 'The Crystal Cave']\n",
      "Group 58\n",
      "['Pride and Prejudice', 'Jane Eyre', 'Wuthering Heights', 'Sense and Sensibility', 'Emma', 'Persuasion', 'Mansfield Park', 'Rebecca', 'The Arctic Incident', 'The Picture of Dorian Gray']\n",
      "Group 59\n",
      "['A Grief Observed', 'Zen and the Art of Motorcycle Maintenance', 'The Pearl of the World', 'The Complete Sherlock Holmes', 'Mere Christianity', \"Le Fantôme de l'Opéra\", 'The Tell-Tale Heart', 'The War of the Worlds', 'The Red Badge of Courage', 'Gulliver’s Travels']\n",
      "Group 60\n",
      "['Seabiscuit', 'Old Yeller', 'The Perfect Storm: A True Story of Men Against the Sea', 'Sh*t My Dad Says', 'The Right Stuff', 'Imajica', 'Our Man in Havana', 'The Bridge of San Luis Rey', nan, 'The River Why']\n",
      "Group 61\n",
      "['The Secret Garden', \"Charlotte's Web\", 'Where the Red Fern Grows', 'The Lion, the Witch and the Wardrobe', 'A Wrinkle in Time', 'Bridge to Terabithia', 'The Giver', 'Anne of Green Gables', 'Island of the Blue Dolphins', 'Number the Stars']\n",
      "Group 62\n",
      "['Jurassic Park', 'The Andromeda Strain', 'Timeline', 'The Lost World', 'Congo', 'Prey', 'The 7 Habits of Highly Effective People', 'State of Fear', 'Contact', 'Rising Sun']\n",
      "Group 63\n",
      "['海辺のカフカ [Umibe no Kafuka]', 'Northanger Abbey', 'ノルウェイの森 [Noruwei no Mori]', '世界の終りとハードボイルド・ワンダーランド [Sekai no owari to hādoboirudo wandārando]', 'Calvin and Hobbes', 'The Essential Calvin and Hobbes: A Calvin and Hobbes Treasury', '羊をめぐる冒険 [Hitsujiwomegurubōken]', 'The Authoritative Calvin and Hobbes', 'The Indispensable Calvin and Hobbes: A Calvin and Hobbes Treasury', 'Team of Rivals: The Political Genius of Abraham Lincoln']\n",
      "Group 64\n",
      "['The God Delusion', 'Catch-22', 'Moneyball: The Art of Winning an Unfair Game', 'I, Claudius', 'Bringing Down the House: The Inside Story of Six M.I.T. Students Who Took Vegas for Millions', 'The Big Short: Inside the Doomsday Machine', 'The Elegant Universe: Superstrings, Hidden Dimensions, and the Quest for the Ultimate Theory', 'Gödel, Escher, Bach: An Eternal Golden Braid', 'Consider the Lobster', 'Eating Animals']\n",
      "Group 65\n",
      "['The Hobbit or There and Back Again', ' The Fellowship of the Ring', 'Northern Lights', 'The Princess Bride', \"The Hitchhiker's Guide to the Galaxy\", 'The Lord of the Rings', 'The Subtle Knife', \"Ender's Game\", 'The Amber Spyglass', 'Dune']\n",
      "Group 66\n",
      "['Great Expectations', 'Oliver Twist', 'A Tale of Two Cities', 'A Christmas Carol', 'David Copperfield', 'John Adams', 'The Killer Angels', '1776', nan, 'Bleak House']\n",
      "Group 67\n",
      "['A Prayer for Owen Meany', \"She's Come Undone\", 'The Poisonwood Bible', 'The Red Tent', 'East of Eden  ', \"Angela's Ashes: A Memoir\", 'I Know This Much Is True ', 'The Cider House Rules', 'White Oleander', 'Life of Pi']\n",
      "Group 68\n",
      "['Odd Thomas', 'The Hound of the Baskervilles', 'Watchers', 'Forever Odd', 'Brother Odd', 'Intensity', 'Lightning', 'Phantoms', 'From the Corner of His Eye', 'Life Expectancy']\n",
      "Group 69\n",
      "['The Nanny Diaries', 'Something Borrowed', nan, 'Fried Green Tomatoes at the Whistle Stop Cafe', 'Something Blue', 'Can You Keep a Secret?', 'The Undomestic Goddess', 'Bridget Jones: The Edge of Reason', 'PS, I Love You', \"Are You There, Vodka? It's Me, Chelsea\"]\n",
      "Group 70\n"
     ]
    },
    {
     "name": "stdout",
     "output_type": "stream",
     "text": [
      "['La casa de los espíritus', 'Nickel and Dimed: On (Not) Getting By in America', 'Bird by Bird: Some Instructions on Writing and Life', 'Darkly Dreaming Dexter', 'We Were the Mulvaneys', 'Kitchen Confidential: Adventures in the Culinary Underbelly', 'A Fine Balance', 'The Absolutely True Diary of a Part-Time Indian', 'Black Like Me', 'Eva Luna']\n",
      "Group 71\n",
      "['Gone', 'Soulless', 'Among the Betrayed', 'The Last Oracle', 'The Death and Life of Charlie St. Cloud', 'Hunger ', 'When We Were Orphans', 'Among the Brave (Shadow Children, #5)', 'Black Order', 'Among the Enemy (Shadow Children, #6)']\n",
      "Group 72\n",
      "['To Kill a Mockingbird', 'The Catcher in the Rye', 'Lord of the Flies ', 'Nineteen Eighty-Four', 'Of Mice and Men ', 'Animal Farm: A Fairy Story', 'The Great Gatsby', 'The Adventures of Huckleberry Finn', 'Where the Sidewalk Ends: The Poems and Drawings of Shel Silverstein', 'Brave New World']\n",
      "Group 73\n",
      "['The Things They Carried', 'Invisible Man', 'A Streetcar Named Desire', 'The Glass Menagerie', 'As I Lay Dying', 'Franny and Zooey', 'Death of a Salesman', 'Mrs Dalloway', 'Nine Stories', 'The Sound and the Fury']\n",
      "Group 74\n",
      "['Point Blanc', 'Skeleton Key', 'Eagle Strike', 'My Blood Approves', 'Nefertiti', 'Snakehead', 'Flutter', 'Fate', 'Revolution', 'Ark Angel']\n",
      "Group 75\n",
      "['The Road', 'Fear and Loathing in Las Vegas: A Savage Journey to the Heart of the American Dream', \"One Flew Over the Cuckoo's Nest\", 'On the Road', 'A Clockwork Orange', 'Guns, Germs, and Steel: The Fates of Human Societies', 'Lonesome Dove', 'No Country for Old Men', \"A People's History of the United States: 1492 to Present \", 'The Grapes of Wrath']\n",
      "Group 76\n",
      "['The Five People You Meet in Heaven', 'The Notebook', 'The Last Lecture', 'A Walk to Remember', \"My Sister's Keeper\", 'Dear John', 'The Last Song', 'The Wedding', 'Message in a Bottle', 'The Guardian']\n",
      "Group 77\n",
      "['Linger', 'The Summoning', 'The Awakening', 'The Awakening and the Struggle', 'Clockwork Prince', 'Before I Fall', 'I Am Number Four', 'Delirium', 'The Reckoning', 'Forever']\n",
      "Group 78\n",
      "['Evermore', 'If I Stay', nan, 'The Sorceress', 'Torn', 'Switched', 'The Green Mile, Part 4: The Bad Death of Eduard Delacroix', 'Where She Went', 'The Green Mile, Part 2: The Mouse on the Mile', \"The Green Mile, Part 3: Coffey's Hands\"]\n",
      "Group 79\n",
      "['The Return of the King', 'The Two Towers', ' The Fellowship of the Ring', 'The Lion, the Witch and the Wardrobe', 'The Hobbit or There and Back Again', \"The magician's nephew\", 'Prince Caspian: The Return to Narnia', 'The Voyage of the Dawn Treader', 'The horse and his boy', 'The Last Battle']\n",
      "Group 80\n",
      "['A Wrinkle in Time', 'A Wind in the Door', 'A Swiftly Tilting Planet', 'Die unendliche Geschichte', 'Danny: The Champion of the World', 'Ragtime', 'The Yellow Wallpaper', 'The Power of Now', \"Savage Inequalities: Children in America's Schools\", \"Giovanni's Room\"]\n",
      "Group 81\n",
      "['At Home in Mitford (Mitford Years #1)', 'Naked in Death', 'A Light in the Window (The Mitford Years, #2)', 'Devil May Cry', 'These High, Green Hills', 'Glory in Death', 'Out to Canaan (Mitford)', 'Mitford Years New Song Unabridged', 'Vengeance in Death', 'In This Mountain (Mitford)']\n",
      "Group 82\n",
      "['The Fountainhead', 'Atlas Shrugged', 'Cannery Row ', 'All the Pretty Horses', 'The Old Man and the Sea', 'Anthem', 'People of the Book', 'A Long Way Down', 'Travels with Charley: In Search of America', 'Three Cups of Tea ']\n",
      "Group 83\n",
      "['Kiss the Girls', 'Along Came a Spider', '1st To Die', '2nd Chance', 'Cat & Mouse', 'Pop Goes the Weasel', \"4th of July (Women's Murder Club, #4)\", 'The 5th Horseman', 'Violets Are Blue', 'Roses Are Red']\n",
      "Group 84\n",
      "['Ten Little Niggers', 'Murder in the Calais Coach', 'The Sweetness at the Bottom of the Pie', 'Death on the Nile', \"Major Pettigrew's Last Stand\", 'Helter Skelter: The True Story of The Manson Murders', 'The Murder of Roger Ackroyd', 'The ABC Murders', 'Super Sad True Love Story', 'The Mysterious Affair at Styles']\n",
      "Group 85\n",
      "['La sombra del viento', 'Das Parfum. Die Geschichte eines Mörders', 'A Visit From the Goon Squad', 'The Secret History', 'This Is Where I Leave You', 'What We Talk About When We Talk About Love: Stories', 'In the Heart of the Sea: The Tragedy of the Whaleship Essex', 'The Lies of Locke Lamora', 'Cathedral', 'The Little Friend']\n",
      "Group 86\n",
      "['Charlie and the Chocolate Factory', 'Matilda', 'James and the Giant Peach', 'The Witches', 'The BFG', 'The Phantom Tollbooth', 'The Twits', 'The Long Winter (Little House, #6)', 'Charlie and the Great Glass Elevator: The Further Adventures of Charlie Bucket and Willy Wonka, Chocolate-Maker Extraordinaire', 'Gilead']\n",
      "Group 87\n",
      "['Middlesex', 'Atonement', 'The Amazing Adventures of Kavalier & Clay', 'Extremely Loud and Incredibly Close', 'Never Let Me Go', 'Everything Is Illuminated', 'El amor en los tiempos del cólera', 'Cien años de soledad', 'The Corrections', 'The Brief Wondrous Life of Oscar Wao']\n",
      "Group 88\n",
      "['Room', 'Bossypants', 'Unaccustomed Earth', 'Freedom', 'The Story of Edgar Sawtelle', 'Let the Great World Spin', 'The Namesake', 'Prep', 'Interpreter of Maladies', 'Olive Kitteridge']\n",
      "Group 89\n",
      "['Eclipse', 'Breaking Dawn', 'Twilight', 'New Moon (Twilight, #2)', 'The Host', 'The Hunger Games', 'Catching Fire', 'City of Glass', 'Mockingjay', 'City of Ashes']\n",
      "Group 90\n",
      "['Things Fall Apart', 'Der Vorleser', 'Reading Lolita in Tehran: A Memoir in Books', 'Cry, The Beloved Country', \"The Color of Water: A Black Man's Tribute to His White Mother\", 'Dreams from My Father', 'Sex, Drugs, and Cocoa Puffs: A Low Culture Manifesto', 'Persepolis', 'Push', 'The Awakening']\n",
      "Group 91\n",
      "[\"The Hitchhiker's Guide to the Galaxy\", 'The Restaurant at the End of the Universe', 'Life, the Universe and Everything', 'Neuromancer', 'Snow Crash', 'So Long, and Thanks for All the Fish', 'Do Androids Dream of Electric Sheep?', \"The Ultimate Hitchhiker's Guide: Five Complete Novels and One Story\", 'Mostly Harmless', 'Dune']\n",
      "Group 92\n",
      "[nan, 'Shadow Kiss', 'Frostbite', 'Spirit Bound', 'Blood Promise', 'Last Sacrifice ', 'Matched', 'City of Bones', 'Fallen', 'Wicked Lovely ']\n",
      "Group 93\n",
      "['Green Eggs and Ham', 'Where the Wild Things Are', 'A Light in the Attic', 'The Cat in the Hat', nan, \"Oh, the Places You'll Go!\", 'The Giving Tree', 'How the Grinch Stole Christmas!', 'The Lorax', 'The Very Hungry Caterpillar']\n",
      "Group 94\n",
      "['The Help', 'Män som hatar kvinnor', 'Flickan som lekte med elden', 'Luftslottet som sprängdes', 'Water for Elephants', 'The Guernsey Literary and Potato Peel Pie Society', 'The Hunger Games', 'The Book Thief', 'The Glass Castle', 'Catching Fire']\n",
      "Group 95\n",
      "['Cold Mountain', 'The Chocolate War', 'The Pleasure of My Company', 'I Am the Cheese', 'Thirteen Moons', 'The Key to Rebecca', 'The Gift of Fear: and Other Survival Signals That Protect Us from Violence', 'The Canterville Ghost', 'Cranford', 'The Forest of Hands and Teeth']\n",
      "Group 96\n",
      "['Little House on the Prairie', 'Little House In The Big Woods', 'Treasure Island', 'The Wind in the Willows', 'Im Westen nichts Neues', nan, 'Little Town on the Prairie', 'Farmer Boy', 'These Happy Golden Years', 'By the Shores of Silver Lake']\n",
      "Group 97\n",
      "['Exile ', 'Sojourn (Dark Elf #3)', 'The Crystal Shard', \"The Halfling's Gem\", 'Relic', 'Acheron (Dark-Hunter, #15) - Part 1', 'Beyond the Highland Mist', 'Starless Night (Legacy of the Drow #2)', 'The Legacy', 'The Book of the Dead']\n",
      "Group 98\n",
      "['The Tragicall Historie of Hamlet, Prince of Denmark', 'The Tragedy of Macbeth', \"A Midsummer Night's Dream\", 'The Tragedy of Othello, The Moor of Venice', 'Much Ado About Nothing', 'An Excellent conceited Tragedie of Romeo and Juliet', 'The Tragedie of King Lear', 'The Importance of Being Earnest', 'The Taming of the Shrew', 'The Tragedy of Julius Caesar']\n",
      "Group 99\n",
      "['The Clan of the Cave Bear', 'The Valley of Horses', \"Assassin's Apprentice\", 'Hyperion', 'The Mammoth Hunters', 'Royal Assassin', 'Anathem', \"Assassin's Quest\", \"A New Earth: Awakening to Your Life's Purpose\", 'The Plains of Passage']\n"
     ]
    }
   ],
   "source": [
    "show_groups(books_vector,10)"
   ]
  },
  {
   "cell_type": "code",
   "execution_count": 12,
   "metadata": {},
   "outputs": [
    {
     "data": {
      "text/html": [
       "<div>\n",
       "<style scoped>\n",
       "    .dataframe tbody tr th:only-of-type {\n",
       "        vertical-align: middle;\n",
       "    }\n",
       "\n",
       "    .dataframe tbody tr th {\n",
       "        vertical-align: top;\n",
       "    }\n",
       "\n",
       "    .dataframe thead th {\n",
       "        text-align: right;\n",
       "    }\n",
       "</style>\n",
       "<table border=\"1\" class=\"dataframe\">\n",
       "  <thead>\n",
       "    <tr style=\"text-align: right;\">\n",
       "      <th></th>\n",
       "      <th>authors</th>\n",
       "      <th>original_publication_year</th>\n",
       "      <th>original_title</th>\n",
       "      <th>language_code</th>\n",
       "      <th>group</th>\n",
       "    </tr>\n",
       "    <tr>\n",
       "      <th>book_id</th>\n",
       "      <th></th>\n",
       "      <th></th>\n",
       "      <th></th>\n",
       "      <th></th>\n",
       "      <th></th>\n",
       "    </tr>\n",
       "  </thead>\n",
       "  <tbody>\n",
       "    <tr>\n",
       "      <th>497</th>\n",
       "      <td>Leo Tolstoy</td>\n",
       "      <td>1869.0</td>\n",
       "      <td>Война и миръ</td>\n",
       "      <td>eng</td>\n",
       "      <td>47</td>\n",
       "    </tr>\n",
       "    <tr>\n",
       "      <th>3481</th>\n",
       "      <td>Franz Kafka</td>\n",
       "      <td>1926.0</td>\n",
       "      <td>Das Schloß</td>\n",
       "      <td>eng</td>\n",
       "      <td>44</td>\n",
       "    </tr>\n",
       "    <tr>\n",
       "      <th>8502</th>\n",
       "      <td>Thomas Mann</td>\n",
       "      <td>1901.0</td>\n",
       "      <td>Buddenbrooks: Verfall einer Familie</td>\n",
       "      <td>eng</td>\n",
       "      <td>66</td>\n",
       "    </tr>\n",
       "    <tr>\n",
       "      <th>263</th>\n",
       "      <td>Ernest Hemingway</td>\n",
       "      <td>1926.0</td>\n",
       "      <td>The Sun Also Rises</td>\n",
       "      <td>en-US</td>\n",
       "      <td>10</td>\n",
       "    </tr>\n",
       "    <tr>\n",
       "      <th>1183</th>\n",
       "      <td>F. Scott Fitzgerald</td>\n",
       "      <td>1933.0</td>\n",
       "      <td>Tender Is the Night</td>\n",
       "      <td>en-US</td>\n",
       "      <td>53</td>\n",
       "    </tr>\n",
       "    <tr>\n",
       "      <th>120</th>\n",
       "      <td>Vladimir Nabokov</td>\n",
       "      <td>1955.0</td>\n",
       "      <td>Lolita</td>\n",
       "      <td>eng</td>\n",
       "      <td>72</td>\n",
       "    </tr>\n",
       "    <tr>\n",
       "      <th>2343</th>\n",
       "      <td>Charles Bukowski</td>\n",
       "      <td>1975.0</td>\n",
       "      <td>Factotum</td>\n",
       "      <td>NaN</td>\n",
       "      <td>75</td>\n",
       "    </tr>\n",
       "    <tr>\n",
       "      <th>112</th>\n",
       "      <td>Joseph Heller</td>\n",
       "      <td>1961.0</td>\n",
       "      <td>Catch-22</td>\n",
       "      <td>en-US</td>\n",
       "      <td>10</td>\n",
       "    </tr>\n",
       "    <tr>\n",
       "      <th>267</th>\n",
       "      <td>Kazuo Ishiguro</td>\n",
       "      <td>2005.0</td>\n",
       "      <td>Never Let Me Go</td>\n",
       "      <td>eng</td>\n",
       "      <td>87</td>\n",
       "    </tr>\n",
       "    <tr>\n",
       "      <th>159</th>\n",
       "      <td>Charles Dickens</td>\n",
       "      <td>1860.0</td>\n",
       "      <td>Great Expectations</td>\n",
       "      <td>eng</td>\n",
       "      <td>66</td>\n",
       "    </tr>\n",
       "  </tbody>\n",
       "</table>\n",
       "</div>"
      ],
      "text/plain": [
       "                     authors  original_publication_year  \\\n",
       "book_id                                                   \n",
       "497              Leo Tolstoy                     1869.0   \n",
       "3481             Franz Kafka                     1926.0   \n",
       "8502             Thomas Mann                     1901.0   \n",
       "263         Ernest Hemingway                     1926.0   \n",
       "1183     F. Scott Fitzgerald                     1933.0   \n",
       "120         Vladimir Nabokov                     1955.0   \n",
       "2343        Charles Bukowski                     1975.0   \n",
       "112            Joseph Heller                     1961.0   \n",
       "267           Kazuo Ishiguro                     2005.0   \n",
       "159          Charles Dickens                     1860.0   \n",
       "\n",
       "                              original_title language_code  group  \n",
       "book_id                                                            \n",
       "497                             Война и миръ           eng     47  \n",
       "3481                              Das Schloß           eng     44  \n",
       "8502     Buddenbrooks: Verfall einer Familie           eng     66  \n",
       "263                       The Sun Also Rises         en-US     10  \n",
       "1183                     Tender Is the Night         en-US     53  \n",
       "120                                   Lolita           eng     72  \n",
       "2343                                Factotum           NaN     75  \n",
       "112                                 Catch-22         en-US     10  \n",
       "267                          Never Let Me Go           eng     87  \n",
       "159                       Great Expectations           eng     66  "
      ]
     },
     "execution_count": 12,
     "metadata": {},
     "output_type": "execute_result"
    }
   ],
   "source": [
    "new_user_books=[497,3481,8502,263,1183,120,2343,112,267,159]\n",
    "books_df.loc[new_user_books]"
   ]
  },
  {
   "cell_type": "code",
   "execution_count": 99,
   "metadata": {},
   "outputs": [
    {
     "data": {
      "text/plain": [
       "(array([10, 44, 66, 75, 87], dtype=int64),)"
      ]
     },
     "execution_count": 99,
     "metadata": {},
     "output_type": "execute_result"
    }
   ],
   "source": [
    "new_user=create_new_user(new_user_books,lda)\n",
    "np.where(new_user>1/n_topics)"
   ]
  },
  {
   "cell_type": "code",
   "execution_count": null,
   "metadata": {},
   "outputs": [],
   "source": []
  },
  {
   "cell_type": "code",
   "execution_count": 14,
   "metadata": {},
   "outputs": [],
   "source": [
    "recommendation=user_recommended_books(new_user,books_vector)"
   ]
  },
  {
   "cell_type": "code",
   "execution_count": 15,
   "metadata": {},
   "outputs": [
    {
     "data": {
      "text/plain": [
       "['Albert Camus',\n",
       " 'Oscar Wilde',\n",
       " 'Ernest Hemingway',\n",
       " 'Milan Kundera',\n",
       " 'Franz Kafka',\n",
       " 'Joseph Heller',\n",
       " 'Fyodor Dostoyevsky',\n",
       " 'Ken Kesey',\n",
       " 'Gabriel García Márquez',\n",
       " 'Jack Kerouac',\n",
       " 'Joseph Conrad',\n",
       " 'Miguel de Cervantes Saavedra',\n",
       " 'Anthony Burgess',\n",
       " 'Vladimir Nabokov',\n",
       " 'Mikhail Bulgakov',\n",
       " 'John Steinbeck',\n",
       " 'Sylvia Plath',\n",
       " 'Hermann Hesse',\n",
       " 'Leo Tolstoy',\n",
       " 'James Joyce',\n",
       " 'Herman Melville',\n",
       " 'John Kennedy Toole',\n",
       " 'Erich Maria Remarque',\n",
       " 'Cormac McCarthy',\n",
       " 'Daniel Defoe',\n",
       " 'William Faulkner',\n",
       " 'George Orwell',\n",
       " 'Charles Dickens',\n",
       " 'Lewis Carroll',\n",
       " 'Aldous Huxley',\n",
       " 'Haruki Murakami',\n",
       " 'J.D. Salinger',\n",
       " 'Umberto Eco',\n",
       " 'Samuel Beckett',\n",
       " 'Jeffrey Eugenides',\n",
       " 'Kurt Vonnegut Jr.',\n",
       " 'F. Scott Fitzgerald',\n",
       " 'Italo Calvino',\n",
       " 'Ian McEwan',\n",
       " 'Michael Chabon',\n",
       " 'Voltaire',\n",
       " 'Henry Miller',\n",
       " 'Jonathan Safran Foer',\n",
       " 'Kazuo Ishiguro',\n",
       " 'Arundhati Roy',\n",
       " 'Gustave Flaubert',\n",
       " 'Ralph Ellison',\n",
       " 'Salman Rushdie']"
      ]
     },
     "execution_count": 15,
     "metadata": {},
     "output_type": "execute_result"
    }
   ],
   "source": [
    "get_recommended_authors(recommendation)"
   ]
  },
  {
   "cell_type": "code",
   "execution_count": null,
   "metadata": {},
   "outputs": [],
   "source": []
  },
  {
   "cell_type": "code",
   "execution_count": null,
   "metadata": {},
   "outputs": [],
   "source": []
  },
  {
   "cell_type": "code",
   "execution_count": null,
   "metadata": {},
   "outputs": [],
   "source": []
  },
  {
   "cell_type": "code",
   "execution_count": null,
   "metadata": {},
   "outputs": [],
   "source": []
  },
  {
   "cell_type": "code",
   "execution_count": 16,
   "metadata": {},
   "outputs": [
    {
     "data": {
      "text/html": [
       "<div>\n",
       "<style scoped>\n",
       "    .dataframe tbody tr th:only-of-type {\n",
       "        vertical-align: middle;\n",
       "    }\n",
       "\n",
       "    .dataframe tbody tr th {\n",
       "        vertical-align: top;\n",
       "    }\n",
       "\n",
       "    .dataframe thead th {\n",
       "        text-align: right;\n",
       "    }\n",
       "</style>\n",
       "<table border=\"1\" class=\"dataframe\">\n",
       "  <thead>\n",
       "    <tr style=\"text-align: right;\">\n",
       "      <th></th>\n",
       "      <th>authors</th>\n",
       "      <th>original_publication_year</th>\n",
       "      <th>original_title</th>\n",
       "      <th>language_code</th>\n",
       "      <th>group</th>\n",
       "    </tr>\n",
       "    <tr>\n",
       "      <th>book_id</th>\n",
       "      <th></th>\n",
       "      <th></th>\n",
       "      <th></th>\n",
       "      <th></th>\n",
       "      <th></th>\n",
       "    </tr>\n",
       "  </thead>\n",
       "  <tbody>\n",
       "    <tr>\n",
       "      <th>4671</th>\n",
       "      <td>Louis-Ferdinand Céline</td>\n",
       "      <td>1932.0</td>\n",
       "      <td>Voyage au bout de la nuit</td>\n",
       "      <td>eng</td>\n",
       "      <td>10</td>\n",
       "    </tr>\n",
       "  </tbody>\n",
       "</table>\n",
       "</div>"
      ],
      "text/plain": [
       "                        authors  original_publication_year  \\\n",
       "book_id                                                      \n",
       "4671     Louis-Ferdinand Céline                     1932.0   \n",
       "\n",
       "                    original_title language_code  group  \n",
       "book_id                                                  \n",
       "4671     Voyage au bout de la nuit           eng     10  "
      ]
     },
     "execution_count": 16,
     "metadata": {},
     "output_type": "execute_result"
    }
   ],
   "source": [
    "books_df[books_df.authors.str.contains(\"Ferdina\")]"
   ]
  },
  {
   "cell_type": "code",
   "execution_count": null,
   "metadata": {},
   "outputs": [],
   "source": []
  },
  {
   "cell_type": "code",
   "execution_count": 26,
   "metadata": {},
   "outputs": [
    {
     "data": {
      "text/plain": [
       "array([[False, False, False, False, False, False, False, False, False,\n",
       "        False,  True, False, False, False, False, False, False, False,\n",
       "        False, False, False, False, False, False, False, False, False,\n",
       "        False, False, False, False, False, False, False, False, False,\n",
       "        False, False, False, False, False, False, False, False,  True,\n",
       "        False, False, False, False, False, False, False, False, False,\n",
       "        False, False, False, False, False, False, False, False, False,\n",
       "        False, False, False,  True, False, False, False, False, False,\n",
       "        False, False, False,  True, False, False, False, False, False,\n",
       "        False, False, False, False, False, False,  True, False, False,\n",
       "        False, False, False, False, False, False, False, False, False,\n",
       "        False]])"
      ]
     },
     "execution_count": 26,
     "metadata": {},
     "output_type": "execute_result"
    }
   ],
   "source": [
    "1/n_topics\n",
    "(new_user>(1/n_topics))"
   ]
  },
  {
   "cell_type": "code",
   "execution_count": null,
   "metadata": {},
   "outputs": [],
   "source": []
  },
  {
   "cell_type": "code",
   "execution_count": null,
   "metadata": {},
   "outputs": [],
   "source": []
  }
 ],
 "metadata": {
  "kernelspec": {
   "display_name": "Python 3",
   "language": "python",
   "name": "python3"
  },
  "language_info": {
   "codemirror_mode": {
    "name": "ipython",
    "version": 3
   },
   "file_extension": ".py",
   "mimetype": "text/x-python",
   "name": "python",
   "nbconvert_exporter": "python",
   "pygments_lexer": "ipython3",
   "version": "3.6.5"
  }
 },
 "nbformat": 4,
 "nbformat_minor": 2
}
