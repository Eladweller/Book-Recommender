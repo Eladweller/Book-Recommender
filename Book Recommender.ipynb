{
 "cells": [
  {
   "cell_type": "code",
   "execution_count": 14,
   "metadata": {},
   "outputs": [],
   "source": [
    "import numpy as np\n",
    "from scipy.sparse import lil_matrix\n",
    "import os\n",
    "import pickle\n",
    "import csv\n",
    "import pandas as pd\n",
    "import matplotlib.pyplot as plt\n",
    "from sklearn.decomposition import LatentDirichletAllocation as LDA\n",
    "from scipy.spatial import distance\n",
    "\n",
    "books_file = 'books.csv'\n",
    "users_ratings = 'books_ratings.csv'\n"
   ]
  },
  {
   "cell_type": "code",
   "execution_count": null,
   "metadata": {},
   "outputs": [],
   "source": []
  },
  {
   "cell_type": "code",
   "execution_count": 15,
   "metadata": {},
   "outputs": [],
   "source": [
    "def find_most_similar(vector,matrix):\n",
    "    return np.argsort(distance.cdist([book_row],books_vector,metric='cosine'))\n",
    "\n",
    "def get_book_name(books_list,size):\n",
    "    book_names=[]\n",
    "    for book in books_list[0,1:size+1]:\n",
    "        book_names.append(books_df.iloc[book][\"original_title\"])\n",
    "    return book_names\n",
    "    "
   ]
  },
  {
   "cell_type": "markdown",
   "metadata": {},
   "source": [
    "<h2>Read \"Books.csv\"</h2>"
   ]
  },
  {
   "cell_type": "code",
   "execution_count": 16,
   "metadata": {},
   "outputs": [
    {
     "data": {
      "text/html": [
       "<div>\n",
       "<style scoped>\n",
       "    .dataframe tbody tr th:only-of-type {\n",
       "        vertical-align: middle;\n",
       "    }\n",
       "\n",
       "    .dataframe tbody tr th {\n",
       "        vertical-align: top;\n",
       "    }\n",
       "\n",
       "    .dataframe thead th {\n",
       "        text-align: right;\n",
       "    }\n",
       "</style>\n",
       "<table border=\"1\" class=\"dataframe\">\n",
       "  <thead>\n",
       "    <tr style=\"text-align: right;\">\n",
       "      <th></th>\n",
       "      <th>authors</th>\n",
       "      <th>original_publication_year</th>\n",
       "      <th>original_title</th>\n",
       "      <th>language_code</th>\n",
       "    </tr>\n",
       "    <tr>\n",
       "      <th>book_id</th>\n",
       "      <th></th>\n",
       "      <th></th>\n",
       "      <th></th>\n",
       "      <th></th>\n",
       "    </tr>\n",
       "  </thead>\n",
       "  <tbody>\n",
       "    <tr>\n",
       "      <th>0</th>\n",
       "      <td>Suzanne Collins</td>\n",
       "      <td>2008.0</td>\n",
       "      <td>The Hunger Games</td>\n",
       "      <td>eng</td>\n",
       "    </tr>\n",
       "    <tr>\n",
       "      <th>1</th>\n",
       "      <td>J.K. Rowling, Mary GrandPré</td>\n",
       "      <td>1997.0</td>\n",
       "      <td>Harry Potter and the Philosopher's Stone</td>\n",
       "      <td>eng</td>\n",
       "    </tr>\n",
       "    <tr>\n",
       "      <th>2</th>\n",
       "      <td>Stephenie Meyer</td>\n",
       "      <td>2005.0</td>\n",
       "      <td>Twilight</td>\n",
       "      <td>en-US</td>\n",
       "    </tr>\n",
       "    <tr>\n",
       "      <th>3</th>\n",
       "      <td>Harper Lee</td>\n",
       "      <td>1960.0</td>\n",
       "      <td>To Kill a Mockingbird</td>\n",
       "      <td>eng</td>\n",
       "    </tr>\n",
       "    <tr>\n",
       "      <th>4</th>\n",
       "      <td>F. Scott Fitzgerald</td>\n",
       "      <td>1925.0</td>\n",
       "      <td>The Great Gatsby</td>\n",
       "      <td>eng</td>\n",
       "    </tr>\n",
       "  </tbody>\n",
       "</table>\n",
       "</div>"
      ],
      "text/plain": [
       "                             authors  original_publication_year  \\\n",
       "book_id                                                           \n",
       "0                    Suzanne Collins                     2008.0   \n",
       "1        J.K. Rowling, Mary GrandPré                     1997.0   \n",
       "2                    Stephenie Meyer                     2005.0   \n",
       "3                         Harper Lee                     1960.0   \n",
       "4                F. Scott Fitzgerald                     1925.0   \n",
       "\n",
       "                                   original_title language_code  \n",
       "book_id                                                          \n",
       "0                                The Hunger Games           eng  \n",
       "1        Harry Potter and the Philosopher's Stone           eng  \n",
       "2                                        Twilight         en-US  \n",
       "3                           To Kill a Mockingbird           eng  \n",
       "4                                The Great Gatsby           eng  "
      ]
     },
     "execution_count": 16,
     "metadata": {},
     "output_type": "execute_result"
    }
   ],
   "source": [
    "books_df=pd.read_csv(books_file,index_col='book_id') ## book_id as index\n",
    "books_df.head()"
   ]
  },
  {
   "cell_type": "markdown",
   "metadata": {},
   "source": [
    "<h2>Read \"books_ratings.csv\"</h2>"
   ]
  },
  {
   "cell_type": "code",
   "execution_count": 17,
   "metadata": {},
   "outputs": [],
   "source": [
    "users_liked={}\n",
    "loc_user_id={}\n",
    "loc_id_user={}\n",
    "c=0\n",
    "with open(users_ratings) as file1:\n",
    "    csv_users=csv.reader(file1)\n",
    "    next(csv_users)\n",
    "    for row in csv_users:\n",
    "        user_id,book_id,rating=row[0],row[1],int(row[2])\n",
    "        if rating>=4:\n",
    "            if user_id not in loc_user_id.keys():\n",
    "                loc_user_id[user_id]=c\n",
    "                loc_id_user[c]=user_id\n",
    "                c+=1\n",
    "            users_liked[user_id]=users_liked.get(user_id,dict())\n",
    "            users_liked[user_id][book_id]=rating"
   ]
  },
  {
   "cell_type": "markdown",
   "metadata": {},
   "source": [
    "<h2> Define sparse matrix with local user id as rows and book ids as columns</h2>"
   ]
  },
  {
   "cell_type": "code",
   "execution_count": 18,
   "metadata": {},
   "outputs": [
    {
     "data": {
      "text/plain": [
       "(13071, 10000)"
      ]
     },
     "execution_count": 18,
     "metadata": {},
     "output_type": "execute_result"
    }
   ],
   "source": [
    "sparse_matrix=lil_matrix((c,books_df.shape[0]),dtype='int')\n",
    "sparse_matrix.shape"
   ]
  },
  {
   "cell_type": "markdown",
   "metadata": {},
   "source": [
    "<h2>fill the sparse matrix with data</h2>"
   ]
  },
  {
   "cell_type": "code",
   "execution_count": 19,
   "metadata": {},
   "outputs": [],
   "source": [
    "for user,liked in users_liked.items():\n",
    "    for book_str,rating in liked.items():\n",
    "        book=int(book_str)\n",
    "        sparse_matrix[loc_user_id[user],book]=rating"
   ]
  },
  {
   "cell_type": "code",
   "execution_count": 20,
   "metadata": {},
   "outputs": [
    {
     "name": "stdout",
     "output_type": "stream",
     "text": [
      "sparcity= 0.005159077346798256\n"
     ]
    }
   ],
   "source": [
    "print(\"sparcity=\",sparse_matrix.nnz/(sparse_matrix.shape[0]*sparse_matrix.shape[1]))"
   ]
  },
  {
   "cell_type": "code",
   "execution_count": 25,
   "metadata": {},
   "outputs": [],
   "source": [
    "lda = LDA(n_topics=30,max_iter=50)"
   ]
  },
  {
   "cell_type": "code",
   "execution_count": 26,
   "metadata": {},
   "outputs": [
    {
     "name": "stderr",
     "output_type": "stream",
     "text": [
      "C:\\Users\\User\\Anaconda3\\lib\\site-packages\\sklearn\\decomposition\\online_lda.py:294: DeprecationWarning: n_topics has been renamed to n_components in version 0.19 and will be removed in 0.21\n",
      "  DeprecationWarning)\n",
      "C:\\Users\\User\\Anaconda3\\lib\\site-packages\\sklearn\\decomposition\\online_lda.py:536: DeprecationWarning: The default value for 'learning_method' will be changed from 'online' to 'batch' in the release 0.20. This warning was introduced in 0.18.\n",
      "  DeprecationWarning)\n"
     ]
    }
   ],
   "source": [
    "lda.fit(sparse_matrix)\n",
    "books_vector=lda.components_.transpose()"
   ]
  },
  {
   "cell_type": "code",
   "execution_count": 27,
   "metadata": {
    "scrolled": false
   },
   "outputs": [
    {
     "name": "stdout",
     "output_type": "stream",
     "text": [
      "The Hunger Games\n",
      "['Catching Fire', 'Revenge of the Spellmans', 'The Book Thief']\n",
      "Harry Potter and the Philosopher's Stone\n",
      "['Waiting to Exhale', 'Keys to Drawing', \"Just Me in the Tub (Mercer Mayer's Little Critter)\"]\n",
      "Twilight\n",
      "['Confessions of a Shopaholic', 'Jemima J', 'Eclipse']\n",
      "To Kill a Mockingbird\n",
      "['Of Mice and Men ', 'Lord of the Flies ', 'The Adventures of Huckleberry Finn']\n",
      "The Great Gatsby\n",
      "['The Catcher in the Rye', 'Of Mice and Men ', 'The Adventures of Huckleberry Finn']\n",
      "The Fault in Our Stars\n",
      "['Evergreen', ' 絶対彼氏 (Zettai Kareshi) 1', '紳士同盟† 1']\n",
      "The Hobbit or There and Back Again\n",
      "[' The Fellowship of the Ring', 'Le Comte de Monte-Cristo', 'The Princess Bride']\n",
      "The Catcher in the Rye\n",
      "['The Great Gatsby', 'Animal Farm: A Fairy Story', 'Of Mice and Men ']\n",
      "Angels & Demons \n",
      "['The Firm', 'The Maze Runner', 'The Lost Symbol']\n",
      "Pride and Prejudice\n",
      "['Jane Eyre', 'Sense and Sensibility', 'Little Women']\n",
      "The Kite Runner \n",
      "['Memoirs of a Geisha', 'The Secret Life of Bees', 'Divine Secrets of the Ya-Ya Sisterhood']\n",
      "Divergent\n",
      "['House Rules', 'Firefly Lane', 'The Tenth Circle']\n",
      "Nineteen Eighty-Four\n",
      "['Brave New World', 'Animal Farm: A Fairy Story', 'Fahrenheit 451']\n",
      "Animal Farm: A Fairy Story\n",
      "['Nineteen Eighty-Four', 'Lord of the Flies ', 'The Adventures of Huckleberry Finn']\n",
      "Het Achterhuis: Dagboekbrieven 14 juni 1942 - 1 augustus 1944\n",
      "['Where the Sidewalk Ends: The Poems and Drawings of Shel Silverstein', 'The Lady of the Rivers', 'The Descendants']\n",
      "Män som hatar kvinnor\n",
      "['Mudbound', 'Unbroken: A World War II Story of Survival, Resilience, and Redemption', 'Dreams of Joy (Shanghai Girls #2)']\n",
      "Catching Fire\n",
      "['The Hunger Games', 'Revenge of the Spellmans', 'The Book Thief']\n",
      "Harry Potter and the Prisoner of Azkaban\n",
      "['Harry Potter and the Goblet of Fire', 'Harry Potter and the Half-Blood Prince', 'Harry Potter and the Order of the Phoenix']\n",
      " The Fellowship of the Ring\n",
      "['The Hobbit or There and Back Again', 'Le Comte de Monte-Cristo', 'The Princess Bride']\n",
      "Mockingjay\n",
      "['The Host', 'Midnight Sun (Partial Draft)', 'The Short Second Life of Bree Tanner']\n",
      "Harry Potter and the Order of the Phoenix\n",
      "['Harry Potter and the Half-Blood Prince', 'Harry Potter and the Prisoner of Azkaban', 'Harry Potter and the Goblet of Fire']\n",
      "The Lovely Bones\n",
      "[\"The Time Traveler's Wife\", nan, 'The Secret Life of Bees']\n",
      "Harry Potter and the Chamber of Secrets\n",
      "['Harry Potter and the Order of the Phoenix', 'Harry Potter and the Half-Blood Prince', 'Harry Potter and the Prisoner of Azkaban']\n",
      "Harry Potter and the Goblet of Fire\n",
      "['Harry Potter and the Prisoner of Azkaban', 'Harry Potter and the Half-Blood Prince', 'Harry Potter and the Order of the Phoenix']\n",
      "Harry Potter and the Deathly Hallows\n",
      "['Harry Potter and the Prisoner of Azkaban', 'Harry Potter and the Order of the Phoenix', 'Harry Potter and the Goblet of Fire']\n",
      "The Da Vinci Code\n",
      "['O Alquimista', 'To Kill a Mockingbird', nan]\n",
      "Harry Potter and the Half-Blood Prince\n",
      "['Harry Potter and the Prisoner of Azkaban', 'Harry Potter and the Goblet of Fire', 'Harry Potter and the Order of the Phoenix']\n",
      "Lord of the Flies \n",
      "['The Adventures of Huckleberry Finn', 'Of Mice and Men ', 'Animal Farm: A Fairy Story']\n",
      "An Excellent conceited Tragedie of Romeo and Juliet\n",
      "['The Lady of the Rivers', 'The Descendants', 'The Ship of Brides']\n",
      "Gone Girl\n",
      "['The Last Nude', 'Train Dreams', 'Killing Lincoln: The Shocking Assassination that Changed America Forever']\n",
      "The Help\n",
      "[\"Elle s'appelait Sarah\", 'The Art of Racing in the Rain', 'Still Alice']\n",
      "Of Mice and Men \n",
      "['Lord of the Flies ', 'The Adventures of Huckleberry Finn', 'Animal Farm: A Fairy Story']\n",
      "Memoirs of a Geisha\n",
      "['The Joy Luck Club', 'Como agua para chocolate', 'The Kite Runner ']\n",
      "Fifty Shades of Grey\n",
      "['ليتها تقرأ', 'Holy Bible English Standard Version', 'قمر على سمرقند']\n",
      "O Alquimista\n",
      "['To Kill a Mockingbird', 'The Da Vinci Code', 'Como agua para chocolate']\n",
      "The Giver\n",
      "['The Giving Tree', 'Complete Harry Potter Boxed Set', 'The Plains of Passage']\n",
      "The Lion, the Witch and the Wardrobe\n",
      "[\"Stormy, Misty's Foal\", 'The Chronicles of Narnia', 'Hand, Hand, Fingers, Thumb']\n",
      "The Time Traveler's Wife\n",
      "['The Lovely Bones', \"Eat, pray, love: one woman's search for everything across Italy, India and Indonesia\", nan]\n",
      "A Game of Thrones\n",
      "['A Dance with Dragons', 'A Clash of Kings', 'A Storm of Swords']\n",
      "Eat, pray, love: one woman's search for everything across Italy, India and Indonesia\n",
      "['Divine Secrets of the Ya-Ya Sisterhood', 'The Secret Life of Bees', 'The Kite Runner ']\n",
      "The Lightning Thief\n",
      "['Tintenblut', 'Tintentod', 'The Red Pyramid']\n",
      "Little Women\n",
      "['Gone with the Wind', 'Het Achterhuis: Dagboekbrieven 14 juni 1942 - 1 augustus 1944', 'The Lady of the Rivers']\n",
      "Jane Eyre\n",
      "['Sense and Sensibility', 'Pride and Prejudice', 'Little Women']\n",
      "The Notebook\n",
      "['The Memoirs of Cleopatra', 'The Devil Wears Prada', 'Jemima J']\n",
      "Life of Pi\n",
      "['The Curious Incident of the Dog in the Night-Time', 'The Poisonwood Bible', 'Animal, Vegetable, Miracle: A Year of Food Life']\n",
      "Water for Elephants\n",
      "['The Girls', 'Lucky Man', \"The Dive From Clausen's Pier\"]\n",
      "The Book Thief\n",
      "['The Guernsey Literary and Potato Peel Pie Society', '博士の愛した数式 ', 'La sombra del viento']\n",
      "Fahrenheit 451\n",
      "['Nineteen Eighty-Four', 'Animal Farm: A Fairy Story', 'Brave New World']\n",
      "New Moon (Twilight, #2)\n",
      "['Eclipse', 'Queen of Babble', 'Breaking Dawn']\n",
      "Where the Sidewalk Ends: The Poems and Drawings of Shel Silverstein\n",
      "['Het Achterhuis: Dagboekbrieven 14 juni 1942 - 1 augustus 1944', 'The Professor', 'The Heavenly Man: The Remarkable True Story of Chinese Christian Brother Yun']\n",
      "City of Bones\n",
      "['City of Glass', 'City of Ashes', 'Uglies']\n",
      "Eclipse\n",
      "['New Moon (Twilight, #2)', 'Queen of Babble', 'Breaking Dawn']\n",
      "Eragon\n",
      "['Waiting to Exhale', \"Harry Potter and the Philosopher's Stone\", 'Brisingr']\n",
      "The Hitchhiker's Guide to the Galaxy\n",
      "['Dune', 'Northern Lights', \"Ender's Game\"]\n",
      "Brave New World\n",
      "['Nineteen Eighty-Four', 'Animal Farm: A Fairy Story', 'Fahrenheit 451']\n",
      "Breaking Dawn\n",
      "['Queen of Babble', 'Mitford Years New Song Unabridged', 'Eclipse']\n",
      "The Secret Life of Bees\n",
      "['Divine Secrets of the Ya-Ya Sisterhood', \"Eat, pray, love: one woman's search for everything across Italy, India and Indonesia\", 'The Kite Runner ']\n",
      "The Adventures of Huckleberry Finn\n",
      "['Lord of the Flies ', 'Of Mice and Men ', 'Animal Farm: A Fairy Story']\n",
      "Charlotte's Web\n",
      "['Five Little Monkeys Jumping on the Bed (The Five Little Monkeys)', 'Priestess of Avalon ', 'The Pigeon Finds a Hot Dog!']\n",
      "The Curious Incident of the Dog in the Night-Time\n",
      "['A Prayer for Owen Meany', 'The Namesake', 'Truth & Beauty: A Friendship']\n",
      "The Girl on the Train\n",
      "['Heft', 'Magic Rises', 'After We Fell']\n",
      "Northern Lights\n",
      "[\"The Hitchhiker's Guide to the Galaxy\", \"Ender's Game\", 'Dune']\n",
      "Wuthering Heights\n",
      "['Middlemarch', 'Preach My Gospel (A Guide to Missionary Service)', 'Pure']\n",
      "My Sister's Keeper\n",
      "['The Other Queen', 'The Kindness of Strangers', \"I Don't Know How She Does It\"]\n",
      "Slaughterhouse-Five, or The Children's Crusade: A Duty-Dance with Death \n",
      "['Brave New World', 'Nineteen Eighty-Four', 'The Catcher in the Rye']\n",
      "Gone with the Wind\n",
      "['Little Women', 'The Lady of the Rivers', 'The Descendants']\n",
      "A Thousand Splendid Suns\n",
      "['The Piano Teacher', 'Here on Earth ', 'Snow Flower and the Secret Fan']\n",
      "The Perks of Being a Wallflower\n",
      "['The Sandman: Season of Mists', 'The Sandman: Dream Country', 'The Sandman: Fables and Reflections']\n",
      "Insurgent\n",
      "['The Penderwicks on Gardam Street', 'Wondrous Strange', 'Virals']\n",
      "Ender's Game\n",
      "[\"The Hitchhiker's Guide to the Galaxy\", 'Dune', 'Northern Lights']\n",
      "Frankenstein; or, The Modern Prometheus\n",
      "['Ὀδύσσεια', 'The Adventures of Huckleberry Finn', 'Lord of the Flies ']\n",
      "The Shining\n",
      "['The Silence of the Lambs', 'Clapton: The Autobiography', 'Interview with the Vampire']\n",
      "The Host\n",
      "['The Short Second Life of Bree Tanner', 'Between Shades of Gray', 'The Twilight Collection (Twilight, #1-3)']\n",
      "Looking for Alaska\n",
      "['Hunted', 'City of Fallen Angels', 'Untamed: A House of Night Novel']\n",
      "nan\n",
      "['The Lovely Bones', 'Under the Tuscan Sun', \"The Time Traveler's Wife\"]\n",
      "Sense and Sensibility\n",
      "['Jane Eyre', 'Pride and Prejudice', 'Little Women']\n",
      "Holes\n",
      "['I Love You Through And Through', 'Homecoming (Tillerman Family, #1)', 'Knuffle Bunny:  A Cautionary Tale']\n",
      "The Devil Wears Prada\n",
      "['The City of Falling Angels', 'The Memoirs of Cleopatra', 'The Notebook']\n",
      "Ὀδύσσεια\n",
      "['Frankenstein; or, The Modern Prometheus', 'The Adventures of Huckleberry Finn', 'Lord of the Flies ']\n",
      "Le Petit Prince\n",
      "['The Jungle', 'The Old Man and the Sea', 'Grendel']\n",
      "The Glass Castle\n",
      "['The Hour I First Believed', 'Balzac et la Petite Tailleuse chinoise', 'The Patron Saint of Liars']\n",
      "Into the Wild\n",
      "['Into Thin Air: A Personal Account of the Mt. Everest Disaster', \"The Girls' Guide to Hunting and Fishing\", 'In Cold Blood']\n",
      "A Tale of Two Cities\n",
      "['Les Misérables', 'The Lady of the Rivers', 'The Descendants']\n",
      "Jurassic Park\n",
      "['The Bourne Identity', 'The Hunt for Red October', 'The Lady of the Rivers']\n",
      "The Giving Tree\n",
      "['The Plains of Passage', 'Winter Solstice', 'The Secret Garden']\n"
     ]
    },
    {
     "name": "stdout",
     "output_type": "stream",
     "text": [
      "A Time to Kill\n",
      "['The Bourne Identity', 'Jurassic Park', 'Mother of Pearl']\n",
      "Un di Velt Hot Geshvign\n",
      "['The Color Purple', 'I Know Why the Caged Bird Sings', 'September']\n",
      "Paper Towns\n",
      "['Blue Bloods', 'The Princess Diaries', 'The Summoning']\n",
      "The Princess Bride\n",
      "['Het Achterhuis: Dagboekbrieven 14 juni 1942 - 1 augustus 1944', 'Fahrenheit 451', 'Le Comte de Monte-Cristo']\n",
      "The Outsiders\n",
      "['Number the Stars', 'The True Confessions of Charlotte Doyle', 'Knuffle Bunny:  A Cautionary Tale']\n",
      "The Maze Runner\n",
      "['The Firm', 'Lone Survivor: The Eyewitness Account of Operation Redwing and the Lost Heroes of SEAL Team 10', 'My Utmost for His Highest']\n",
      "Freakonomics: A Rogue Economist Explores the Hidden Side of Everything\n",
      "['The Tipping Point: How Little Things Can Make a Big Difference', 'Thirteen Moons', 'Into Thin Air: A Personal Account of the Mt. Everest Disaster']\n",
      "The Secret Garden\n",
      "['Winter Solstice', 'The Lemonade War', \"Grandfather's Journey\"]\n",
      "Cien años de soledad\n",
      "['Lolita', 'Physics of the Impossible: A Scientific Exploration of the World of Phasers, Force Fields, Teleportation, and Time Travel', 'Ordinary People']\n",
      "The Picture of Dorian Gray\n",
      "['De la démocratie en Amérique', 'धर्मपद [Dhammapada]', 'Erinnerungen, Träume, Gedanken von C.G. Jung']\n",
      "Fifty Shades Freed\n",
      "['Just One Day', 'Ghost Boy', 'The Shadows']\n",
      "Dracula\n",
      "['Gulliver’s Travels', 'Le Père Goriot', 'The Strange Case of Dr Jekyll and Mr Hyde']\n",
      "Flickan som lekte med elden\n",
      "['Luftslottet som sprängdes', 'The Immortal Life of Henrietta Lacks', 'People of the Book']\n",
      "Fifty Shades Darker\n",
      "['Accordance', 'Fix-It and Forget-It Cookbook: Feasting with Your Slow Cooker', 'Sleeping Beauty']\n",
      "The Poisonwood Bible\n",
      "['The Kite Runner ', 'Conversations With God. An Uncommon Dialogue. Book 2', \"Eat, pray, love: one woman's search for everything across Italy, India and Indonesia\"]\n",
      "Me Talk Pretty One Day\n",
      "['The Happiness Hypothesis: Finding Modern Truth in Ancient Wisdom', 'Nickel and Dimed: On (Not) Getting By in America', 'Thank You for Smoking']\n"
     ]
    }
   ],
   "source": [
    "for count,book_row in enumerate(books_vector):\n",
    "    similarity_list=find_most_similar(book_row,books_vector)\n",
    "    print(books_df.iloc[count][\"original_title\"])\n",
    "    print(get_book_name(similarity_list,3))\n",
    "# #     print(np.argsort(ms))\n",
    "#     print(\"---\",books_df[\"original_title\"].iloc[count],\"---\",\"most similar to:\",\"---\",books_df[\"original_title\"].iloc[np.argsort(ms)[0][1]],\"---\")\n",
    "    if count==100:\n",
    "        break"
   ]
  },
  {
   "cell_type": "code",
   "execution_count": null,
   "metadata": {},
   "outputs": [],
   "source": []
  },
  {
   "cell_type": "code",
   "execution_count": null,
   "metadata": {},
   "outputs": [],
   "source": []
  },
  {
   "cell_type": "code",
   "execution_count": null,
   "metadata": {},
   "outputs": [],
   "source": []
  }
 ],
 "metadata": {
  "kernelspec": {
   "display_name": "Python 3",
   "language": "python",
   "name": "python3"
  },
  "language_info": {
   "codemirror_mode": {
    "name": "ipython",
    "version": 3
   },
   "file_extension": ".py",
   "mimetype": "text/x-python",
   "name": "python",
   "nbconvert_exporter": "python",
   "pygments_lexer": "ipython3",
   "version": "3.6.5"
  }
 },
 "nbformat": 4,
 "nbformat_minor": 2
}
